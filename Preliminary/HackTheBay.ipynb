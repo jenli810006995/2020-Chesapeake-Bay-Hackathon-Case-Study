{
 "cells": [
  {
   "cell_type": "code",
   "execution_count": 3,
   "metadata": {},
   "outputs": [],
   "source": [
    "import pandas as pd\n",
    "import numpy as np\n",
    "import json\n",
    "import requests"
   ]
  },
  {
   "cell_type": "code",
   "execution_count": 209,
   "metadata": {},
   "outputs": [
    {
     "ename": "ModuleNotFoundError",
     "evalue": "No module named 'tensorboard'",
     "output_type": "error",
     "traceback": [
      "\u001b[1;31m---------------------------------------------------------------------------\u001b[0m",
      "\u001b[1;31mModuleNotFoundError\u001b[0m                       Traceback (most recent call last)",
      "\u001b[1;32m<ipython-input-209-ad13693a9bf1>\u001b[0m in \u001b[0;36m<module>\u001b[1;34m\u001b[0m\n\u001b[0;32m      1\u001b[0m \u001b[1;31m# Load the TensorBoard notebook extension\u001b[0m\u001b[1;33m\u001b[0m\u001b[1;33m\u001b[0m\u001b[1;33m\u001b[0m\u001b[0m\n\u001b[1;32m----> 2\u001b[1;33m \u001b[0mget_ipython\u001b[0m\u001b[1;33m(\u001b[0m\u001b[1;33m)\u001b[0m\u001b[1;33m.\u001b[0m\u001b[0mrun_line_magic\u001b[0m\u001b[1;33m(\u001b[0m\u001b[1;34m'load_ext'\u001b[0m\u001b[1;33m,\u001b[0m \u001b[1;34m'tensorboard'\u001b[0m\u001b[1;33m)\u001b[0m\u001b[1;33m\u001b[0m\u001b[1;33m\u001b[0m\u001b[0m\n\u001b[0m",
      "\u001b[1;32m~\\anaconda3\\lib\\site-packages\\IPython\\core\\interactiveshell.py\u001b[0m in \u001b[0;36mrun_line_magic\u001b[1;34m(self, magic_name, line, _stack_depth)\u001b[0m\n\u001b[0;32m   2324\u001b[0m                 \u001b[0mkwargs\u001b[0m\u001b[1;33m[\u001b[0m\u001b[1;34m'local_ns'\u001b[0m\u001b[1;33m]\u001b[0m \u001b[1;33m=\u001b[0m \u001b[0msys\u001b[0m\u001b[1;33m.\u001b[0m\u001b[0m_getframe\u001b[0m\u001b[1;33m(\u001b[0m\u001b[0mstack_depth\u001b[0m\u001b[1;33m)\u001b[0m\u001b[1;33m.\u001b[0m\u001b[0mf_locals\u001b[0m\u001b[1;33m\u001b[0m\u001b[1;33m\u001b[0m\u001b[0m\n\u001b[0;32m   2325\u001b[0m             \u001b[1;32mwith\u001b[0m \u001b[0mself\u001b[0m\u001b[1;33m.\u001b[0m\u001b[0mbuiltin_trap\u001b[0m\u001b[1;33m:\u001b[0m\u001b[1;33m\u001b[0m\u001b[1;33m\u001b[0m\u001b[0m\n\u001b[1;32m-> 2326\u001b[1;33m                 \u001b[0mresult\u001b[0m \u001b[1;33m=\u001b[0m \u001b[0mfn\u001b[0m\u001b[1;33m(\u001b[0m\u001b[1;33m*\u001b[0m\u001b[0margs\u001b[0m\u001b[1;33m,\u001b[0m \u001b[1;33m**\u001b[0m\u001b[0mkwargs\u001b[0m\u001b[1;33m)\u001b[0m\u001b[1;33m\u001b[0m\u001b[1;33m\u001b[0m\u001b[0m\n\u001b[0m\u001b[0;32m   2327\u001b[0m             \u001b[1;32mreturn\u001b[0m \u001b[0mresult\u001b[0m\u001b[1;33m\u001b[0m\u001b[1;33m\u001b[0m\u001b[0m\n\u001b[0;32m   2328\u001b[0m \u001b[1;33m\u001b[0m\u001b[0m\n",
      "\u001b[1;32m<decorator-gen-65>\u001b[0m in \u001b[0;36mload_ext\u001b[1;34m(self, module_str)\u001b[0m\n",
      "\u001b[1;32m~\\anaconda3\\lib\\site-packages\\IPython\\core\\magic.py\u001b[0m in \u001b[0;36m<lambda>\u001b[1;34m(f, *a, **k)\u001b[0m\n\u001b[0;32m    185\u001b[0m     \u001b[1;31m# but it's overkill for just that one bit of state.\u001b[0m\u001b[1;33m\u001b[0m\u001b[1;33m\u001b[0m\u001b[1;33m\u001b[0m\u001b[0m\n\u001b[0;32m    186\u001b[0m     \u001b[1;32mdef\u001b[0m \u001b[0mmagic_deco\u001b[0m\u001b[1;33m(\u001b[0m\u001b[0marg\u001b[0m\u001b[1;33m)\u001b[0m\u001b[1;33m:\u001b[0m\u001b[1;33m\u001b[0m\u001b[1;33m\u001b[0m\u001b[0m\n\u001b[1;32m--> 187\u001b[1;33m         \u001b[0mcall\u001b[0m \u001b[1;33m=\u001b[0m \u001b[1;32mlambda\u001b[0m \u001b[0mf\u001b[0m\u001b[1;33m,\u001b[0m \u001b[1;33m*\u001b[0m\u001b[0ma\u001b[0m\u001b[1;33m,\u001b[0m \u001b[1;33m**\u001b[0m\u001b[0mk\u001b[0m\u001b[1;33m:\u001b[0m \u001b[0mf\u001b[0m\u001b[1;33m(\u001b[0m\u001b[1;33m*\u001b[0m\u001b[0ma\u001b[0m\u001b[1;33m,\u001b[0m \u001b[1;33m**\u001b[0m\u001b[0mk\u001b[0m\u001b[1;33m)\u001b[0m\u001b[1;33m\u001b[0m\u001b[1;33m\u001b[0m\u001b[0m\n\u001b[0m\u001b[0;32m    188\u001b[0m \u001b[1;33m\u001b[0m\u001b[0m\n\u001b[0;32m    189\u001b[0m         \u001b[1;32mif\u001b[0m \u001b[0mcallable\u001b[0m\u001b[1;33m(\u001b[0m\u001b[0marg\u001b[0m\u001b[1;33m)\u001b[0m\u001b[1;33m:\u001b[0m\u001b[1;33m\u001b[0m\u001b[1;33m\u001b[0m\u001b[0m\n",
      "\u001b[1;32m~\\anaconda3\\lib\\site-packages\\IPython\\core\\magics\\extension.py\u001b[0m in \u001b[0;36mload_ext\u001b[1;34m(self, module_str)\u001b[0m\n\u001b[0;32m     31\u001b[0m         \u001b[1;32mif\u001b[0m \u001b[1;32mnot\u001b[0m \u001b[0mmodule_str\u001b[0m\u001b[1;33m:\u001b[0m\u001b[1;33m\u001b[0m\u001b[1;33m\u001b[0m\u001b[0m\n\u001b[0;32m     32\u001b[0m             \u001b[1;32mraise\u001b[0m \u001b[0mUsageError\u001b[0m\u001b[1;33m(\u001b[0m\u001b[1;34m'Missing module name.'\u001b[0m\u001b[1;33m)\u001b[0m\u001b[1;33m\u001b[0m\u001b[1;33m\u001b[0m\u001b[0m\n\u001b[1;32m---> 33\u001b[1;33m         \u001b[0mres\u001b[0m \u001b[1;33m=\u001b[0m \u001b[0mself\u001b[0m\u001b[1;33m.\u001b[0m\u001b[0mshell\u001b[0m\u001b[1;33m.\u001b[0m\u001b[0mextension_manager\u001b[0m\u001b[1;33m.\u001b[0m\u001b[0mload_extension\u001b[0m\u001b[1;33m(\u001b[0m\u001b[0mmodule_str\u001b[0m\u001b[1;33m)\u001b[0m\u001b[1;33m\u001b[0m\u001b[1;33m\u001b[0m\u001b[0m\n\u001b[0m\u001b[0;32m     34\u001b[0m \u001b[1;33m\u001b[0m\u001b[0m\n\u001b[0;32m     35\u001b[0m         \u001b[1;32mif\u001b[0m \u001b[0mres\u001b[0m \u001b[1;33m==\u001b[0m \u001b[1;34m'already loaded'\u001b[0m\u001b[1;33m:\u001b[0m\u001b[1;33m\u001b[0m\u001b[1;33m\u001b[0m\u001b[0m\n",
      "\u001b[1;32m~\\anaconda3\\lib\\site-packages\\IPython\\core\\extensions.py\u001b[0m in \u001b[0;36mload_extension\u001b[1;34m(self, module_str)\u001b[0m\n\u001b[0;32m     78\u001b[0m             \u001b[1;32mif\u001b[0m \u001b[0mmodule_str\u001b[0m \u001b[1;32mnot\u001b[0m \u001b[1;32min\u001b[0m \u001b[0msys\u001b[0m\u001b[1;33m.\u001b[0m\u001b[0mmodules\u001b[0m\u001b[1;33m:\u001b[0m\u001b[1;33m\u001b[0m\u001b[1;33m\u001b[0m\u001b[0m\n\u001b[0;32m     79\u001b[0m                 \u001b[1;32mwith\u001b[0m \u001b[0mprepended_to_syspath\u001b[0m\u001b[1;33m(\u001b[0m\u001b[0mself\u001b[0m\u001b[1;33m.\u001b[0m\u001b[0mipython_extension_dir\u001b[0m\u001b[1;33m)\u001b[0m\u001b[1;33m:\u001b[0m\u001b[1;33m\u001b[0m\u001b[1;33m\u001b[0m\u001b[0m\n\u001b[1;32m---> 80\u001b[1;33m                     \u001b[0mmod\u001b[0m \u001b[1;33m=\u001b[0m \u001b[0mimport_module\u001b[0m\u001b[1;33m(\u001b[0m\u001b[0mmodule_str\u001b[0m\u001b[1;33m)\u001b[0m\u001b[1;33m\u001b[0m\u001b[1;33m\u001b[0m\u001b[0m\n\u001b[0m\u001b[0;32m     81\u001b[0m                     \u001b[1;32mif\u001b[0m \u001b[0mmod\u001b[0m\u001b[1;33m.\u001b[0m\u001b[0m__file__\u001b[0m\u001b[1;33m.\u001b[0m\u001b[0mstartswith\u001b[0m\u001b[1;33m(\u001b[0m\u001b[0mself\u001b[0m\u001b[1;33m.\u001b[0m\u001b[0mipython_extension_dir\u001b[0m\u001b[1;33m)\u001b[0m\u001b[1;33m:\u001b[0m\u001b[1;33m\u001b[0m\u001b[1;33m\u001b[0m\u001b[0m\n\u001b[0;32m     82\u001b[0m                         print((\"Loading extensions from {dir} is deprecated. \"\n",
      "\u001b[1;32m~\\anaconda3\\lib\\importlib\\__init__.py\u001b[0m in \u001b[0;36mimport_module\u001b[1;34m(name, package)\u001b[0m\n\u001b[0;32m    125\u001b[0m                 \u001b[1;32mbreak\u001b[0m\u001b[1;33m\u001b[0m\u001b[1;33m\u001b[0m\u001b[0m\n\u001b[0;32m    126\u001b[0m             \u001b[0mlevel\u001b[0m \u001b[1;33m+=\u001b[0m \u001b[1;36m1\u001b[0m\u001b[1;33m\u001b[0m\u001b[1;33m\u001b[0m\u001b[0m\n\u001b[1;32m--> 127\u001b[1;33m     \u001b[1;32mreturn\u001b[0m \u001b[0m_bootstrap\u001b[0m\u001b[1;33m.\u001b[0m\u001b[0m_gcd_import\u001b[0m\u001b[1;33m(\u001b[0m\u001b[0mname\u001b[0m\u001b[1;33m[\u001b[0m\u001b[0mlevel\u001b[0m\u001b[1;33m:\u001b[0m\u001b[1;33m]\u001b[0m\u001b[1;33m,\u001b[0m \u001b[0mpackage\u001b[0m\u001b[1;33m,\u001b[0m \u001b[0mlevel\u001b[0m\u001b[1;33m)\u001b[0m\u001b[1;33m\u001b[0m\u001b[1;33m\u001b[0m\u001b[0m\n\u001b[0m\u001b[0;32m    128\u001b[0m \u001b[1;33m\u001b[0m\u001b[0m\n\u001b[0;32m    129\u001b[0m \u001b[1;33m\u001b[0m\u001b[0m\n",
      "\u001b[1;32m~\\anaconda3\\lib\\importlib\\_bootstrap.py\u001b[0m in \u001b[0;36m_gcd_import\u001b[1;34m(name, package, level)\u001b[0m\n",
      "\u001b[1;32m~\\anaconda3\\lib\\importlib\\_bootstrap.py\u001b[0m in \u001b[0;36m_find_and_load\u001b[1;34m(name, import_)\u001b[0m\n",
      "\u001b[1;32m~\\anaconda3\\lib\\importlib\\_bootstrap.py\u001b[0m in \u001b[0;36m_find_and_load_unlocked\u001b[1;34m(name, import_)\u001b[0m\n",
      "\u001b[1;31mModuleNotFoundError\u001b[0m: No module named 'tensorboard'"
     ]
    }
   ],
   "source": [
    "# Load the TensorBoard notebook extension\n",
    "%load_ext tensorboard"
   ]
  },
  {
   "cell_type": "code",
   "execution_count": null,
   "metadata": {},
   "outputs": [],
   "source": [
    "import tensorflow as tf\n",
    "import datetime"
   ]
  },
  {
   "cell_type": "code",
   "execution_count": null,
   "metadata": {},
   "outputs": [],
   "source": [
    "# Clear any logs from previous runs\n",
    "!rm -rf ./logs/ "
   ]
  },
  {
   "cell_type": "code",
   "execution_count": null,
   "metadata": {},
   "outputs": [],
   "source": [
    "mnist = tf.keras.datasets.mnist\n",
    "\n",
    "(x_train, y_train),(x_test, y_test) = mnist.load_data()\n",
    "x_train, x_test = x_train / 255.0, x_test / 255.0\n",
    "\n",
    "def create_model():\n",
    "  return tf.keras.models.Sequential([\n",
    "    tf.keras.layers.Flatten(input_shape=(28, 28)),\n",
    "    tf.keras.layers.Dense(512, activation='relu'),\n",
    "    tf.keras.layers.Dropout(0.2),\n",
    "    tf.keras.layers.Dense(10, activation='softmax')\n",
    "  ])"
   ]
  },
  {
   "cell_type": "code",
   "execution_count": null,
   "metadata": {},
   "outputs": [],
   "source": [
    "model = create_model()\n",
    "model.compile(optimizer='adam',\n",
    "              loss='sparse_categorical_crossentropy',\n",
    "              metrics=['accuracy'])\n",
    "\n",
    "log_dir = \"logs/fit/\" + datetime.datetime.now().strftime(\"%Y%m%d-%H%M%S\")\n",
    "tensorboard_callback = tf.keras.callbacks.TensorBoard(log_dir=log_dir, histogram_freq=1)\n",
    "\n",
    "model.fit(x=x_train, \n",
    "          y=y_train, \n",
    "          epochs=5, \n",
    "          validation_data=(x_test, y_test), \n",
    "          callbacks=[tensorboard_callback])"
   ]
  },
  {
   "cell_type": "code",
   "execution_count": null,
   "metadata": {},
   "outputs": [],
   "source": [
    "%tensorboard --logdir logs/fit"
   ]
  },
  {
   "cell_type": "code",
   "execution_count": 4,
   "metadata": {},
   "outputs": [],
   "source": [
    "import os\n",
    "os.environ['PROJ_LIB'] = '/opt/conda/pkgs/proj4-5.2.0-he1b5a44_1003/share/proj'"
   ]
  },
  {
   "cell_type": "code",
   "execution_count": 5,
   "metadata": {},
   "outputs": [],
   "source": [
    "import datetime as dt  # Python standard library datetime  module\n",
    "import numpy as np\n",
    "from netCDF4 import Dataset  # http://code.google.com/p/netcdf4-python/\n",
    "import matplotlib.pyplot as plt\n",
    "from mpl_toolkits.basemap import Basemap, addcyclic, shiftgrid"
   ]
  },
  {
   "cell_type": "code",
   "execution_count": 6,
   "metadata": {},
   "outputs": [],
   "source": [
    "import pandas as pd \n",
    "import numpy as np \n",
    "import matplotlib.pyplot as plt \n",
    "import statsmodels.graphics.tsaplots as sgt \n",
    "import statsmodels.tsa.stattools as sts \n",
    "from statsmodels.tsa.seasonal import seasonal_decompose\n",
    "import seaborn as sns\n",
    "sns.set()"
   ]
  },
  {
   "cell_type": "code",
   "execution_count": 7,
   "metadata": {},
   "outputs": [],
   "source": [
    "from mpl_toolkits.basemap import Basemap"
   ]
  },
  {
   "cell_type": "code",
   "execution_count": 8,
   "metadata": {},
   "outputs": [
    {
     "name": "stdout",
     "output_type": "stream",
     "text": [
      "E:\\Hackathon_HackTheBay\\Data\\Water Temperature\\2017\n"
     ]
    }
   ],
   "source": [
    "cd \"E:\\Hackathon_HackTheBay\\Data\\Water Temperature\\2017\""
   ]
  },
  {
   "cell_type": "code",
   "execution_count": null,
   "metadata": {},
   "outputs": [],
   "source": [
    "import netCDF4\n",
    "from netCDF4 import Dataset\n",
    "\n",
    "dataset = netCDF4.MFDataset(['ICOADS_R3.0.1_2017-01.nc','ICOADS_R3.0.1_2017-02.nc','ICOADS_R3.0.1_2017-03.nc', \\\n",
    "                             'ICOADS_R3.0.1_2017-04.nc', 'ICOADS_R3.0.1_2017-05.nc', 'ICOADS_R3.0.1_2017-06.nc', \\\n",
    "                            'ICOADS_R3.0.1_2017-07.nc','ICOADS_R3.0.1_2017-08.nc','ICOADS_R3.0.1_2017-09.nc', \\\n",
    "                            'ICOADS_R3.0.1_2017-10.nc','ICOADS_R3.0.1_2017-11.nc','ICOADS_R3.0.1_2017-12.nc'])"
   ]
  },
  {
   "cell_type": "code",
   "execution_count": 9,
   "metadata": {},
   "outputs": [],
   "source": [
    "from mpl_toolkits.basemap import Basemap\n",
    "import matplotlib.pyplot as plt\n",
    "%matplotlib inline"
   ]
  },
  {
   "cell_type": "code",
   "execution_count": 10,
   "metadata": {},
   "outputs": [],
   "source": [
    "from netCDF4 import Dataset, num2date\n",
    "import time, calendar, datetime, numpy\n",
    "#from mpl_toolkits.basemap import Basemap\n",
    "#import matplotlib.pyplot as plt\n",
    "import urllib, os"
   ]
  },
  {
   "cell_type": "code",
   "execution_count": 11,
   "metadata": {},
   "outputs": [],
   "source": [
    "my_example_nc_file =r'''E:\\Hackathon_HackTheBay\\Data\\Water Temperature\\2017\\ICOADS_R3.0.1_2017-01.nc'''\n",
    "#/Volumes/Elements/RIT_Capstone_Project_Network/Data/NC Data/Capstone_Project_Data/NOAA\n",
    "#/Users/joannechen/Creative Cloud Files/NOAA\n",
    "fh = Dataset(my_example_nc_file, mode='r')"
   ]
  },
  {
   "cell_type": "code",
   "execution_count": 12,
   "metadata": {},
   "outputs": [],
   "source": [
    "fh = Dataset(my_example_nc_file, mode='r')"
   ]
  },
  {
   "cell_type": "code",
   "execution_count": 13,
   "metadata": {},
   "outputs": [],
   "source": [
    "'''\n",
    "NAME\n",
    "    NetCDF with Python\n",
    "PURPOSE\n",
    "    To demonstrate how to read and write data with NetCDF files using\n",
    "    a NetCDF file from the NCEP/NCAR Reanalysis.\n",
    "    Plotting using Matplotlib and Basemap is also shown.\n",
    "PROGRAMMER(S)\n",
    "    Chris Slocum\n",
    "REVISION HISTORY\n",
    "    20140320 -- Initial version created and posted online\n",
    "    20140722 -- Added basic error handling to ncdump\n",
    "                Thanks to K.-Michael Aye for highlighting the issue\n",
    "REFERENCES\n",
    "    netcdf4-python -- http://code.google.com/p/netcdf4-python/\n",
    "    NCEP/NCAR Reanalysis -- Kalnay et al. 1996\n",
    "        http://dx.doi.org/10.1175/1520-0477(1996)077<0437:TNYRP>2.0.CO;2\n",
    "'''\n",
    "import datetime as dt  # Python standard library datetime  module\n",
    "import numpy as np\n",
    "from netCDF4 import Dataset  # http://code.google.com/p/netcdf4-python/\n",
    "import matplotlib.pyplot as plt\n",
    "#from mpl_toolkits.basemap import Basemap, addcyclic, shiftgrid\n",
    "\n",
    "\n",
    "def ncdump(nc_fid, verb=True):\n",
    "    '''\n",
    "    ncdump outputs dimensions, variables and their attribute information.\n",
    "    The information is similar to that of NCAR's ncdump utility.\n",
    "    ncdump requires a valid instance of Dataset.\n",
    "\n",
    "    Parameters\n",
    "    ----------\n",
    "    nc_fid : netCDF4.Dataset\n",
    "        A netCDF4 dateset object\n",
    "    verb : Boolean\n",
    "        whether or not nc_attrs, nc_dims, and nc_vars are printed\n",
    "\n",
    "    Returns\n",
    "    -------\n",
    "    nc_attrs : list\n",
    "        A Python list of the NetCDF file global attributes\n",
    "    nc_dims : list\n",
    "        A Python list of the NetCDF file dimensions\n",
    "    nc_vars : list\n",
    "        A Python list of the NetCDF file variables\n",
    "    '''\n",
    "    def print_ncattr(key):\n",
    "        \"\"\"\n",
    "        Prints the NetCDF file attributes for a given key\n",
    "\n",
    "        Parameters\n",
    "        ----------\n",
    "        key : unicode\n",
    "            a valid netCDF4.Dataset.variables key\n",
    "        \"\"\"\n",
    "        try:\n",
    "            print (\"\\t\\ttype:\", repr(nc_fid.variables[key].dtype))\n",
    "            for ncattr in nc_fid.variables[key].ncattrs():\n",
    "                print (\"\\t\\t%s:\" % ncattr,\\\n",
    "                      repr(nc_fid.variables[key].getncattr(ncattr)))\n",
    "        except KeyError:\n",
    "            print (\"\\t\\tWARNING: %s does not contain variable attributes\" % key)\n",
    "\n",
    "    # NetCDF global attributes\n",
    "    nc_attrs = nc_fid.ncattrs()\n",
    "    if verb:\n",
    "        print (\"NetCDF Global Attributes:\")\n",
    "        for nc_attr in nc_attrs:\n",
    "            print (\"\\t%s:\" % nc_attr, repr(nc_fid.getncattr(nc_attr)))\n",
    "    nc_dims = [dim for dim in nc_fid.dimensions]  # list of nc dimensions\n",
    "    # Dimension shape information.\n",
    "    if verb:\n",
    "        print (\"NetCDF dimension information:\")\n",
    "        for dim in nc_dims:\n",
    "            print (\"\\tName:\", dim)\n",
    "            print (\"\\t\\tsize:\", len(nc_fid.dimensions[dim]))\n",
    "            print_ncattr(dim)\n",
    "    # Variable information.\n",
    "    nc_vars = [var for var in nc_fid.variables]  # list of nc variables\n",
    "    if verb:\n",
    "        print (\"NetCDF variable information:\")\n",
    "        for var in nc_vars:\n",
    "            if var not in nc_dims:\n",
    "                print (\"\\tName:\", var)\n",
    "                print (\"\\t\\tdimensions:\", nc_fid.variables[var].dimensions)\n",
    "                print (\"\\t\\tsize:\", nc_fid.variables[var].size)\n",
    "                print_ncattr(var)\n",
    "    return nc_attrs, nc_dims, nc_vars"
   ]
  },
  {
   "cell_type": "code",
   "execution_count": 14,
   "metadata": {},
   "outputs": [
    {
     "name": "stdout",
     "output_type": "stream",
     "text": [
      "NetCDF Global Attributes:\n",
      "\tncei_template_version: 'NCEI_NetCDF_Point_Template_v2.0'\n",
      "\tfeatureType: 'point'\n",
      "\ttitle: 'International Comprehensive Ocean-Atmosphere Data Set (ICOADS) R3.0.1 data collected from 2017-01-01T00:00:00Z to 2017-01-31T23:58:47Z.'\n",
      "\tsummary: 'This file contains ICOADS R3.0.1 data in netCDF4 format collected from 2017-01-01T00:00:00Z to 2017-01-31T23:58:47Z. The International Comprehensive Ocean-Atmosphere Data Set (ICOADS) offers surface marine data spanning the past three centuries, and simple gridded monthly summary products for 2-degree latitude x 2-degree longitude boxes back to 1800 (and 1degreex1degree boxes since 1960)--these data and products are freely distributed worldwide. As it contains observations from many different observing systems encompassing the evolution of measurement technology over hundreds of years, ICOADS is probably the most complete and heterogeneous collection of surface marine data in existence.'\n",
      "\tkeywords: 'Earth Science > Atmosphere > Clouds > Cloud Base, Earth Science > Atmosphere > Atmospheric Winds > Surface Winds, Earth Science > Atmosphere > Atmospheric Temperature > Surface Air Temperature, Earth Science > Atmosphere > Atmospheric Temperature > Air Temperature, Earth Science > Oceans > Ocean Waves > Significant Wave Height, Earth Science > Oceans > Ocean Temperature > Sea Surface Temperature, Earth Science > Atmosphere > Atmospheric Pressure > Sea Level Pressure, Earth Science > Oceans > Ocean Waves > Swells, Earth Science > Oceans > Ocean Waves > Wave Period, Earth Science > Atmosphere > Air Quality > Visibility, Earth Science > Atmosphere > Atmospheric Temperature > Dew Point Temperature, Earth Science > Atmosphere > Clouds > Cloud Amount/Frequency'\n",
      "\tid: 'ICOADS_R3.0.1_2017-01'\n",
      "\tnaming_authority: 'gov.noaa.ncei'\n",
      "\tsource: 'IMMA1_R3.0.1_2017-01.gz'\n",
      "\tprocessing_level: 'Restructured from IMMA1 format to NetCDF4 format.'\n",
      "\tacknowledgement: 'Conversion of ICOADS data from IMMA1 to netCDF format by NCEI is supported by the NOAA Big Earth Data Initiative (BEDI).'\n",
      "\tlicense: 'These data may be redistributed and used without restriction.'\n",
      "\tstandard_name_vocabulary: 'CF Standard Name Table v31'\n",
      "\tdate_created: '2017-04-12T02:19:45Z'\n",
      "\tcreator_name: 'NCEI'\n",
      "\tcreator_email: 'ncei.info@noaa.gov'\n",
      "\tcreator_url: 'https://www.ncei.noaa.gov/'\n",
      "\tinstitution: 'National Centers for Environmental Information (NCEI), NOAA'\n",
      "\tproject: 'International Comprehensive Ocean-Atmosphere Data Set (ICOADS) Project'\n",
      "\tpublisher_name: 'NCEI'\n",
      "\tpublisher_email: 'ncei.info@noaa.gov'\n",
      "\tpublisher_url: 'https://www.ncei.noaa.gov/'\n",
      "\tgeospatial_bounds_crs: 'EPSG:4326'\n",
      "\tgeospatial_lat_min: -78.3\n",
      "\tgeospatial_lat_max: 89.25\n",
      "\tgeospatial_lon_min: 0.0\n",
      "\tgeospatial_lon_max: 359.99\n",
      "\tgeospatial_lat_units: 'degrees_north'\n",
      "\tgeospatial_lon_units: 'degrees_east'\n",
      "\ttime_coverage_start: '2017-01-01T00:00:00Z'\n",
      "\ttime_coverage_end: '2017-01-31T23:58:47Z'\n",
      "\ttime_coverage_duration: 'P4W2DT23H58M47S'\n",
      "\ttime_coverage_resolution: 'vary'\n",
      "\tuuid: 'a443ea04-defe-4da8-b305-3bb2008af27a'\n",
      "\tsea_name: 'World-Wide Distribution'\n",
      "\tcreator_institution: 'NOAA National Centers for Environmental Information (NCEI)'\n",
      "\tpublisher_type: 'institution'\n",
      "\tpublisher_institution: 'NOAA National Centers for Environmental Information (NCEI)'\n",
      "\tprogram: ''\n",
      "\tcontributor_name: 'Zhankun Wang; ICOADS team'\n",
      "\tcontributor_role: 'ICOADS Data Conversion to NetCDF; ICOADS IMMA1 Data Provider'\n",
      "\tdate_modified: '2017-04-12T02:19:45Z'\n",
      "\tdate_issued: '2017-04-12T02:19:45Z'\n",
      "\tproduct_version: 'ICOADS R3.0.1 netCDF4'\n",
      "\tkeywords_vocabulary: 'Global Change Master Directory (GCMD) 2015. GCMD Keywords, Version 8.1.'\n",
      "\tcdm_data_type: 'Point'\n",
      "\tmetadata_link: ''\n",
      "\tIMMA_Version: '1'\n",
      "\tRelease_Number_Primary: '3'\n",
      "\tRelease_Number_Secondary: '0'\n",
      "\tRelease_Number_Tertiary: '1'\n",
      "\tRelease_status_indicator: '0'\n",
      "\treferences: 'http://rda.ucar.edu/datasets/ds548.0/docs/R3.0-citation.pdf'\n",
      "\tConventions: 'CF-1.6, ACDD-1.3'\n",
      "\tgeospatial_bounds: 'POLYGON ((0.0000 -78.3000,0.0000 89.2500,359.9900 89.2500,359.9900 -78.3000,0.0000 -78.3000))'\n",
      "\tcreator_type: 'group'\n",
      "\tdate_metadata_modified: '2017-04-24T18:19:25Z'\n",
      "\thistory: '2017-04-12T02:19:45Z: Converted from IMMA1 format to netCDF4 format by Z.W. ; 2017-04-24T18:19:25Z: Added ACDD-1.3 to att Convention, corrected geospatial_bounds format.'\n",
      "NetCDF dimension information:\n",
      "\tName: obs\n",
      "\t\tsize: 4104797\n",
      "\t\tWARNING: obs does not contain variable attributes\n",
      "\tName: DATE_len\n",
      "\t\tsize: 8\n",
      "\t\tWARNING: DATE_len does not contain variable attributes\n",
      "\tName: ID_len\n",
      "\t\tsize: 9\n",
      "\t\tWARNING: ID_len does not contain variable attributes\n",
      "\tName: UID_len\n",
      "\t\tsize: 6\n",
      "\t\tWARNING: UID_len does not contain variable attributes\n",
      "NetCDF variable information:\n",
      "\tName: time\n",
      "\t\tdimensions: ('obs',)\n",
      "\t\tsize: 4104797\n",
      "\t\ttype: dtype('float64')\n",
      "\t\tlong_name: 'time'\n",
      "\t\tstandard_name: 'time'\n",
      "\t\tunits: 'days since 1662-10-15 12:00:00'\n",
      "\t\tcalendar: 'julian'\n",
      "\t\taxis: 'T'\n",
      "\t\tcomment: 'Julian days since the beginning of the ICOADS record, which is 1662-10-15 12:00:00. Missing values of date (DD in date) are replaced by 0 and missing values in HR are filled with 0.0 in this calculation. See actual values in date, HR for reference.'\n",
      "\tName: date\n",
      "\t\tdimensions: ('obs', 'DATE_len')\n",
      "\t\tsize: 32838376\n",
      "\t\ttype: dtype('S1')\n",
      "\t\tlong_name: 'date in YYYYMMDD'\n",
      "\t\tformat: 'YYYYMMDD'\n",
      "\t\tcomment: 'YYYY: four digital year, MM: two digital month and DD: two digital date. Missing values of DD have been filled with 99.'\n",
      "\tName: crs\n",
      "\t\tdimensions: ()\n",
      "\t\tsize: 1\n",
      "\t\ttype: dtype('int32')\n",
      "\t\tgrid_mapping_name: 'latitude_longitude'\n",
      "\t\tepsg_code: 'EPSG:4326'\n",
      "\t\tsemi_major_axis: 6378137.0\n",
      "\t\tinverse_flattening: 298.257223563\n",
      "\tName: HR\n",
      "\t\tdimensions: ('obs',)\n",
      "\t\tsize: 4104797\n",
      "\t\ttype: dtype('float32')\n",
      "\t\t_FillValue: -9999.0\n",
      "\t\tlong_name: 'Hour'\n",
      "\t\tvalid_min: 0.0\n",
      "\t\tvalid_max: 23.99\n",
      "\t\tcoordinates: 'time lat lon'\n",
      "\t\tgrid_mapping: 'crs'\n",
      "\t\tcell_methods: 'time: point'\n",
      "\t\tcomment: 'precision: hundredths of hour'\n",
      "\tName: lat\n",
      "\t\tdimensions: ('obs',)\n",
      "\t\tsize: 4104797\n",
      "\t\ttype: dtype('float32')\n",
      "\t\tstandard_name: 'latitude'\n",
      "\t\tlong_name: 'Latitude'\n",
      "\t\tunits: 'degrees_north'\n",
      "\t\tvalid_min: -90.0\n",
      "\t\tvalid_max: 90.0\n",
      "\t\taxis: 'Y'\n",
      "\tName: lon\n",
      "\t\tdimensions: ('obs',)\n",
      "\t\tsize: 4104797\n",
      "\t\ttype: dtype('float32')\n",
      "\t\tstandard_name: 'longitude'\n",
      "\t\tlong_name: 'Longitude'\n",
      "\t\tunits: 'degrees_east'\n",
      "\t\tvalid_min: 0.0\n",
      "\t\tvalid_max: 359.99\n",
      "\t\taxis: 'X'\n",
      "\tName: TI\n",
      "\t\tdimensions: ('obs',)\n",
      "\t\tsize: 4104797\n",
      "\t\ttype: dtype('int16')\n",
      "\t\t_FillValue: -99\n",
      "\t\tlong_name: 'Time Indicator'\n",
      "\t\tvalid_min: 0\n",
      "\t\tvalid_max: 3\n",
      "\t\tcoordinates: 'time lat lon'\n",
      "\t\tgrid_mapping: 'crs'\n",
      "\t\tcell_methods: 'time: point'\n",
      "\t\tcomment: 'incoming precision of time field'\n",
      "\tName: LI\n",
      "\t\tdimensions: ('obs',)\n",
      "\t\tsize: 4104797\n",
      "\t\ttype: dtype('int16')\n",
      "\t\t_FillValue: -99\n",
      "\t\tlong_name: 'Latitude Longitude Indicator'\n",
      "\t\tvalid_min: 0\n",
      "\t\tvalid_max: 6\n",
      "\t\tcoordinates: 'time lat lon'\n",
      "\t\tgrid_mapping: 'crs'\n",
      "\t\tcell_methods: 'time: point'\n",
      "\t\tcomment: 'incoming precision of lat/lon fields'\n",
      "\tName: DS\n",
      "\t\tdimensions: ('obs',)\n",
      "\t\tsize: 4104797\n",
      "\t\ttype: dtype('int16')\n",
      "\t\t_FillValue: -99\n",
      "\t\tlong_name: \"Ship's Course\"\n",
      "\t\tvalid_min: 0\n",
      "\t\tvalid_max: 9\n",
      "\t\tcoordinates: 'time lat lon'\n",
      "\t\tgrid_mapping: 'crs'\n",
      "\t\tcell_methods: 'time: point'\n",
      "\t\tcomment: 'WMO Code Table 0700'\n",
      "\tName: VS\n",
      "\t\tdimensions: ('obs',)\n",
      "\t\tsize: 4104797\n",
      "\t\ttype: dtype('int16')\n",
      "\t\t_FillValue: -99\n",
      "\t\tlong_name: \"Ship's Speed\"\n",
      "\t\tvalid_min: 0\n",
      "\t\tvalid_max: 9\n",
      "\t\tcoordinates: 'time lat lon'\n",
      "\t\tgrid_mapping: 'crs'\n",
      "\t\tcell_methods: 'time: point'\n",
      "\t\tcomment: 'WMO Code Table 4451'\n",
      "\tName: NID\n",
      "\t\tdimensions: ('obs',)\n",
      "\t\tsize: 4104797\n",
      "\t\ttype: dtype('int16')\n",
      "\t\t_FillValue: -99\n",
      "\t\tlong_name: 'National Source Indicator'\n",
      "\t\tvalid_min: 0\n",
      "\t\tvalid_max: 99\n",
      "\t\tcoordinates: 'time lat lon'\n",
      "\t\tgrid_mapping: 'crs'\n",
      "\t\tcell_methods: 'time: point'\n",
      "\tName: II\n",
      "\t\tdimensions: ('obs',)\n",
      "\t\tsize: 4104797\n",
      "\t\ttype: dtype('int16')\n",
      "\t\t_FillValue: -99\n",
      "\t\tlong_name: 'Identification Indicator'\n",
      "\t\tvalid_min: 0\n",
      "\t\tvalid_max: 10\n",
      "\t\tcoordinates: 'time lat lon'\n",
      "\t\tgrid_mapping: 'crs'\n",
      "\t\tcell_methods: 'time: point'\n",
      "\t\tcomment: 'ID Indicator - call sign; buoy number etc'\n",
      "\tName: ID\n",
      "\t\tdimensions: ('obs', 'ID_len')\n",
      "\t\tsize: 36943173\n",
      "\t\ttype: dtype('S1')\n",
      "\t\tlong_name: 'Identification'\n",
      "\t\tvalid_min: 32.0\n",
      "\t\tvalid_max: 126.0\n",
      "\t\tcoordinates: 'time lat lon'\n",
      "\t\tgrid_mapping: 'crs'\n",
      "\t\tcell_methods: 'time: point'\n",
      "\t\tcomment: 'Identification'\n",
      "\tName: DI\n",
      "\t\tdimensions: ('obs',)\n",
      "\t\tsize: 4104797\n",
      "\t\ttype: dtype('int16')\n",
      "\t\t_FillValue: -99\n",
      "\t\tlong_name: 'Wind Direction Indicator'\n",
      "\t\tvalid_min: 0\n",
      "\t\tvalid_max: 6\n",
      "\t\tflag_values: array([0, 1, 2, 3, 4, 5, 6], dtype=int16)\n",
      "\t\tflag_meanings: '36_point_compass 32_point_compass 16_or_36_point_compass 16_or_32_point_compass 8_point_compass 360_point_compass high_resolution_data_eg_tenths_of_degrees'\n",
      "\t\tcoordinates: 'time lat lon'\n",
      "\t\tgrid_mapping: 'crs'\n",
      "\t\tcell_methods: 'time: point'\n",
      "\t\tcomment: 'Compass used and approximate precision of wind direction'\n",
      "\tName: D\n",
      "\t\tdimensions: ('obs',)\n",
      "\t\tsize: 4104797\n",
      "\t\ttype: dtype('int16')\n",
      "\t\t_FillValue: -99\n",
      "\t\tstandard_name: 'wind_from_direction'\n",
      "\t\tlong_name: 'Wind Direction'\n",
      "\t\tunits: 'degrees'\n",
      "\t\tvalid_min: 1\n",
      "\t\tvalid_max: 362\n",
      "\t\tcoordinates: 'time lat lon'\n",
      "\t\tgrid_mapping: 'crs'\n",
      "\t\tcell_methods: 'time: point'\n",
      "\t\tcomment: 'Wind direction - true degrees'\n",
      "\t\tancillary_variables: 'UF VF WNC'\n",
      "\tName: WI\n",
      "\t\tdimensions: ('obs',)\n",
      "\t\tsize: 4104797\n",
      "\t\ttype: dtype('int16')\n",
      "\t\t_FillValue: -99\n",
      "\t\tlong_name: 'Wind Speed Indicator'\n",
      "\t\tvalid_min: 0\n",
      "\t\tvalid_max: 8\n",
      "\t\tcoordinates: 'time lat lon'\n",
      "\t\tgrid_mapping: 'crs'\n",
      "\t\tcell_methods: 'time: point'\n",
      "\t\tcomment: 'Units of originally recorded wind speed'\n",
      "\tName: W\n",
      "\t\tdimensions: ('obs',)\n",
      "\t\tsize: 4104797\n",
      "\t\ttype: dtype('float32')\n",
      "\t\t_FillValue: -9999.0\n",
      "\t\tstandard_name: 'wind_speed'\n",
      "\t\tlong_name: 'Wind Speed  '\n",
      "\t\tunits: 'm/s'\n",
      "\t\tvalid_min: 0.0\n",
      "\t\tvalid_max: 99.9\n",
      "\t\tcoordinates: 'time lat lon'\n",
      "\t\tgrid_mapping: 'crs'\n",
      "\t\tcell_methods: 'time: point'\n",
      "\t\tcomment: 'precision: tenths meter per second'\n",
      "\t\tancillary_variables: 'UF VF WNC'\n",
      "\tName: VV\n",
      "\t\tdimensions: ('obs',)\n",
      "\t\tsize: 4104797\n",
      "\t\ttype: dtype('int16')\n",
      "\t\t_FillValue: -99\n",
      "\t\tstandard_name: 'visibility_in_air'\n",
      "\t\tlong_name: 'Visibility'\n",
      "\t\tunits: 'm'\n",
      "\t\tvalid_min: 90\n",
      "\t\tvalid_max: 99\n",
      "\t\tcoordinates: 'time lat lon'\n",
      "\t\tgrid_mapping: 'crs'\n",
      "\t\tcell_methods: 'time: point'\n",
      "\t\tcomment: 'WMO Code Table 4377 '\n",
      "\t\tancillary_variables: 'BNC'\n",
      "\tName: WW\n",
      "\t\tdimensions: ('obs',)\n",
      "\t\tsize: 4104797\n",
      "\t\ttype: dtype('int16')\n",
      "\t\t_FillValue: -99\n",
      "\t\tlong_name: 'Present Weather'\n",
      "\t\tvalid_min: 0\n",
      "\t\tvalid_max: 99\n",
      "\t\tcoordinates: 'time lat lon'\n",
      "\t\tgrid_mapping: 'crs'\n",
      "\t\tcell_methods: 'time: point'\n",
      "\t\tcomment: 'WMO Code Table 4677'\n",
      "\t\tancillary_variables: 'XNC'\n",
      "\tName: W1\n",
      "\t\tdimensions: ('obs',)\n",
      "\t\tsize: 4104797\n",
      "\t\ttype: dtype('int16')\n",
      "\t\t_FillValue: -99\n",
      "\t\tlong_name: 'Past Weather'\n",
      "\t\tvalid_min: 0\n",
      "\t\tvalid_max: 9\n",
      "\t\tcoordinates: 'time lat lon'\n",
      "\t\tgrid_mapping: 'crs'\n",
      "\t\tcell_methods: 'time: point'\n",
      "\t\tcomment: 'WMO Code Table 4561'\n",
      "\t\tancillary_variables: 'YNC'\n",
      "\tName: SLP\n",
      "\t\tdimensions: ('obs',)\n",
      "\t\tsize: 4104797\n",
      "\t\ttype: dtype('float32')\n",
      "\t\t_FillValue: -9999.0\n",
      "\t\tstandard_name: 'air_pressure_at_sea_level'\n",
      "\t\tlong_name: 'Sea Level Pressure'\n",
      "\t\tunits: 'hPa'\n",
      "\t\tvalid_min: 870.0\n",
      "\t\tvalid_max: 1074.6\n",
      "\t\tcoordinates: 'time lat lon'\n",
      "\t\tgrid_mapping: 'crs'\n",
      "\t\tcell_methods: 'time: point'\n",
      "\t\tcomment: 'precision: tenths hPa'\n",
      "\t\tancillary_variables: 'PF PNC'\n",
      "\tName: A\n",
      "\t\tdimensions: ('obs',)\n",
      "\t\tsize: 4104797\n",
      "\t\ttype: dtype('int16')\n",
      "\t\t_FillValue: -99\n",
      "\t\tlong_name: 'Characteristics of Pressure Tendency'\n",
      "\t\tvalid_min: 0\n",
      "\t\tvalid_max: 8\n",
      "\t\tcoordinates: 'time lat lon'\n",
      "\t\tgrid_mapping: 'crs'\n",
      "\t\tcell_methods: 'time: point'\n",
      "\t\tcomment: 'WMO Code Table 0200'\n",
      "\t\tancillary_variables: 'TNC'\n",
      "\tName: PPP\n",
      "\t\tdimensions: ('obs',)\n",
      "\t\tsize: 4104797\n",
      "\t\ttype: dtype('float32')\n",
      "\t\t_FillValue: -9999.0\n",
      "\t\tstandard_name: 'tendency_of_surface_air_pressure'\n",
      "\t\tlong_name: 'Pressure Tendency'\n",
      "\t\tunits: 'hPa s-1'\n",
      "\t\tvalid_min: 0.0\n",
      "\t\tvalid_max: 51.0\n",
      "\t\tcoordinates: 'time lat lon'\n",
      "\t\tgrid_mapping: 'crs'\n",
      "\t\tcell_methods: 'time: point'\n",
      "\t\tcomment: 'precision: tenths hPa'\n",
      "\tName: IT\n",
      "\t\tdimensions: ('obs',)\n",
      "\t\tsize: 4104797\n",
      "\t\ttype: dtype('int16')\n",
      "\t\t_FillValue: -99\n",
      "\t\tlong_name: 'Temperature Indicator'\n",
      "\t\tvalid_min: 0\n",
      "\t\tvalid_max: 9\n",
      "\t\tcoordinates: 'time lat lon'\n",
      "\t\tgrid_mapping: 'crs'\n",
      "\t\tcell_methods: 'time: point'\n",
      "\t\tcomment: 'Precision and/or units of original values'\n",
      "\tName: AT\n",
      "\t\tdimensions: ('obs',)\n",
      "\t\tsize: 4104797\n",
      "\t\ttype: dtype('float32')\n",
      "\t\t_FillValue: -9999.0\n",
      "\t\tstandard_name: 'air_temperature'\n",
      "\t\tlong_name: 'Air Temperature'\n",
      "\t\tunits: 'celsius'\n",
      "\t\tvalid_min: -99.9\n",
      "\t\tvalid_max: 99.9\n",
      "\t\tcoordinates: 'time lat lon'\n",
      "\t\tgrid_mapping: 'crs'\n",
      "\t\tcell_methods: 'time: point'\n",
      "\t\tcomment: 'precision: tenths degree celsius'\n",
      "\t\tancillary_variables: 'AF ANC'\n",
      "\tName: WBTI\n",
      "\t\tdimensions: ('obs',)\n",
      "\t\tsize: 4104797\n",
      "\t\ttype: dtype('int16')\n",
      "\t\t_FillValue: -99\n",
      "\t\tlong_name: 'Wet Bulb Temperature Indicator'\n",
      "\t\tvalid_min: 0\n",
      "\t\tvalid_max: 3\n",
      "\t\tcoordinates: 'time lat lon'\n",
      "\t\tgrid_mapping: 'crs'\n",
      "\t\tcell_methods: 'time: point'\n",
      "\t\tcomment: 'Indicates measured/computed and ice bulb conditions'\n",
      "\t\tancillary_variables: 'GNC'\n",
      "\tName: WBT\n",
      "\t\tdimensions: ('obs',)\n",
      "\t\tsize: 4104797\n",
      "\t\ttype: dtype('float32')\n",
      "\t\t_FillValue: -9999.0\n",
      "\t\tstandard_name: 'wet_bulb_temperature'\n",
      "\t\tlong_name: 'Wet Bulb Temperature  '\n",
      "\t\tunits: 'celsius'\n",
      "\t\tvalid_min: -99.9\n",
      "\t\tvalid_max: 99.9\n",
      "\t\tcoordinates: 'time lat lon'\n",
      "\t\tgrid_mapping: 'crs'\n",
      "\t\tcell_methods: 'time: point'\n",
      "\t\tcomment: 'precision: tenths degree celsius'\n",
      "\t\tancillary_variables: 'GNC'\n",
      "\tName: DPTI\n",
      "\t\tdimensions: ('obs',)\n",
      "\t\tsize: 4104797\n",
      "\t\ttype: dtype('int16')\n",
      "\t\t_FillValue: -99\n",
      "\t\tlong_name: 'Dew Point Temperature Indicator'\n",
      "\t\tvalid_min: 0\n",
      "\t\tvalid_max: 3\n",
      "\t\tcoordinates: 'time lat lon'\n",
      "\t\tgrid_mapping: 'crs'\n",
      "\t\tcell_methods: 'time: point'\n",
      "\t\tcomment: 'Indicates measured/computed and ice bulb conditions'\n",
      "\t\tancillary_variables: 'DNC'\n",
      "\tName: DPT\n",
      "\t\tdimensions: ('obs',)\n",
      "\t\tsize: 4104797\n",
      "\t\ttype: dtype('float32')\n",
      "\t\t_FillValue: -9999.0\n",
      "\t\tstandard_name: 'dew_point_temperature'\n",
      "\t\tlong_name: 'Dew Point Temperature  '\n",
      "\t\tunits: 'celsius'\n",
      "\t\tvalid_min: -99.9\n",
      "\t\tvalid_max: 99.9\n",
      "\t\tcoordinates: 'time lat lon'\n",
      "\t\tgrid_mapping: 'crs'\n",
      "\t\tcell_methods: 'time: point'\n",
      "\t\tcomment: 'precision: tenths degree celsius'\n",
      "\t\tancillary_variables: 'DNC'\n",
      "\tName: SI\n",
      "\t\tdimensions: ('obs',)\n",
      "\t\tsize: 4104797\n",
      "\t\ttype: dtype('int16')\n",
      "\t\t_FillValue: -99\n",
      "\t\tlong_name: 'Sea Surface Temperature Method Indicator'\n",
      "\t\tvalid_min: 0\n",
      "\t\tvalid_max: 12\n",
      "\t\tcoordinates: 'time lat lon'\n",
      "\t\tgrid_mapping: 'crs'\n",
      "\t\tcell_methods: 'time: point'\n",
      "\t\tcomment: 'Method by which SST was taken'\n",
      "\tName: SST\n",
      "\t\tdimensions: ('obs',)\n",
      "\t\tsize: 4104797\n",
      "\t\ttype: dtype('float32')\n",
      "\t\t_FillValue: -9999.0\n",
      "\t\tstandard_name: 'sea_surface_temperature'\n",
      "\t\tlong_name: 'Sea Surface Temperature  '\n",
      "\t\tunits: 'celsius'\n",
      "\t\tvalid_min: -99.9\n",
      "\t\tvalid_max: 99.9\n",
      "\t\tcoordinates: 'time lat lon'\n",
      "\t\tgrid_mapping: 'crs'\n",
      "\t\tcell_methods: 'time: point'\n",
      "\t\tcomment: 'precision: tenths degree celsius'\n",
      "\t\tancillary_variables: 'SF SNC'\n",
      "\tName: N\n",
      "\t\tdimensions: ('obs',)\n",
      "\t\tsize: 4104797\n",
      "\t\ttype: dtype('int16')\n",
      "\t\t_FillValue: -99\n",
      "\t\tstandard_name: 'cloud_area_fraction'\n",
      "\t\tlong_name: 'Total Cloud Amount'\n",
      "\t\tvalid_min: 0\n",
      "\t\tvalid_max: 9\n",
      "\t\tcoordinates: 'time lat lon'\n",
      "\t\tgrid_mapping: 'crs'\n",
      "\t\tcell_methods: 'time: point'\n",
      "\t\tcomment: 'WMO Code Table 2700'\n",
      "\t\tancillary_variables: 'CNC'\n",
      "\tName: NH\n",
      "\t\tdimensions: ('obs',)\n",
      "\t\tsize: 4104797\n",
      "\t\ttype: dtype('int16')\n",
      "\t\t_FillValue: -99\n",
      "\t\tstandard_name: 'low_type_cloud_area_fraction'\n",
      "\t\tlong_name: 'Low Cloud Amount'\n",
      "\t\tvalid_min: 0\n",
      "\t\tvalid_max: 9\n",
      "\t\tcoordinates: 'time lat lon'\n",
      "\t\tgrid_mapping: 'crs'\n",
      "\t\tcell_methods: 'time: point'\n",
      "\t\tcomment: 'WMO Code Table 2700'\n",
      "\t\tancillary_variables: 'CNC'\n",
      "\tName: CL\n",
      "\t\tdimensions: ('obs',)\n",
      "\t\tsize: 4104797\n",
      "\t\ttype: dtype('int16')\n",
      "\t\t_FillValue: -99\n",
      "\t\tlong_name: 'Low Cloud Type'\n",
      "\t\tvalid_min: 0.0\n",
      "\t\tvalid_max: 10.0\n",
      "\t\tcoordinates: 'time lat lon'\n",
      "\t\tgrid_mapping: 'crs'\n",
      "\t\tcell_methods: 'time: point'\n",
      "\t\tcomment: 'WMO Code Table 0513'\n",
      "\t\tancillary_variables: 'CNC'\n",
      "\tName: H\n",
      "\t\tdimensions: ('obs',)\n",
      "\t\tsize: 4104797\n",
      "\t\ttype: dtype('int16')\n",
      "\t\t_FillValue: -99\n",
      "\t\tstandard_name: 'cloud_base_altitude'\n",
      "\t\tlong_name: 'Cloud Height'\n",
      "\t\tunits: 'm'\n",
      "\t\tvalid_min: 0.0\n",
      "\t\tvalid_max: 10.0\n",
      "\t\tcoordinates: 'time lat lon'\n",
      "\t\tgrid_mapping: 'crs'\n",
      "\t\tcell_methods: 'time: point'\n",
      "\t\tcomment: 'WMO Code Table 1600'\n",
      "\tName: CM\n",
      "\t\tdimensions: ('obs',)\n",
      "\t\tsize: 4104797\n",
      "\t\ttype: dtype('int16')\n",
      "\t\t_FillValue: -99\n",
      "\t\tlong_name: 'Middle Cloud Type'\n",
      "\t\tvalid_min: 0.0\n",
      "\t\tvalid_max: 10.0\n",
      "\t\tcoordinates: 'time lat lon'\n",
      "\t\tgrid_mapping: 'crs'\n",
      "\t\tcell_methods: 'time: point'\n",
      "\t\tcomment: 'WMO Code Table 0515'\n",
      "\t\tancillary_variables: 'CNC'\n",
      "\tName: CH\n",
      "\t\tdimensions: ('obs',)\n",
      "\t\tsize: 4104797\n",
      "\t\ttype: dtype('int16')\n",
      "\t\t_FillValue: -99\n",
      "\t\tlong_name: 'High Cloud Type'\n",
      "\t\tvalid_min: 0.0\n",
      "\t\tvalid_max: 10.0\n",
      "\t\tcoordinates: 'time lat lon'\n",
      "\t\tgrid_mapping: 'crs'\n",
      "\t\tcell_methods: 'time: point'\n",
      "\t\tcomment: 'WMO Code Table 0509'\n",
      "\t\tancillary_variables: 'CNC'\n",
      "\tName: WP\n",
      "\t\tdimensions: ('obs',)\n",
      "\t\tsize: 4104797\n",
      "\t\ttype: dtype('int16')\n",
      "\t\t_FillValue: -99\n",
      "\t\tstandard_name: 'sea_surface_wind_wave_period'\n",
      "\t\tlong_name: 'Wave Period'\n",
      "\t\tunits: 'seconds'\n",
      "\t\tvalid_min: 0\n",
      "\t\tvalid_max: 30\n",
      "\t\tcoordinates: 'time lat lon'\n",
      "\t\tgrid_mapping: 'crs'\n",
      "\t\tcell_methods: 'time: point'\n",
      "\t\tcomment: 'whole seconds'\n",
      "\t\tancillary_variables: 'ENC'\n",
      "\tName: WH\n",
      "\t\tdimensions: ('obs',)\n",
      "\t\tsize: 4104797\n",
      "\t\ttype: dtype('int16')\n",
      "\t\t_FillValue: -99\n",
      "\t\tstandard_name: 'sea_surface_wind_wave_significant_height'\n",
      "\t\tlong_name: 'Wave Height'\n",
      "\t\tunits: 'm'\n",
      "\t\tvalid_min: 0\n",
      "\t\tvalid_max: 99\n",
      "\t\tcoordinates: 'time lat lon'\n",
      "\t\tgrid_mapping: 'crs'\n",
      "\t\tcell_methods: 'time: point'\n",
      "\t\tcomment: 'Half meters'\n",
      "\t\tancillary_variables: 'ENC'\n",
      "\tName: SD\n",
      "\t\tdimensions: ('obs',)\n",
      "\t\tsize: 4104797\n",
      "\t\ttype: dtype('int16')\n",
      "\t\t_FillValue: -99\n",
      "\t\tlong_name: 'Swell Direction'\n",
      "\t\tvalid_min: 0\n",
      "\t\tvalid_max: 38\n",
      "\t\tcoordinates: 'time lat lon'\n",
      "\t\tgrid_mapping: 'crs'\n",
      "\t\tcell_methods: 'time: point'\n",
      "\t\tcomment: 'Tens of Degrees following WMO Code Table 0877'\n",
      "\t\tancillary_variables: 'FNC'\n",
      "\tName: SP\n",
      "\t\tdimensions: ('obs',)\n",
      "\t\tsize: 4104797\n",
      "\t\ttype: dtype('int16')\n",
      "\t\t_FillValue: -99\n",
      "\t\tstandard_name: 'sea_surface_swell_wave_period'\n",
      "\t\tlong_name: 'Swell Period'\n",
      "\t\tunits: 'seconds'\n",
      "\t\tvalid_min: 0\n",
      "\t\tvalid_max: 30\n",
      "\t\tcoordinates: 'time lat lon'\n",
      "\t\tgrid_mapping: 'crs'\n",
      "\t\tcell_methods: 'time: point'\n",
      "\t\tcomment: 'whole seconds'\n",
      "\t\tancillary_variables: 'FNC'\n",
      "\tName: SH\n",
      "\t\tdimensions: ('obs',)\n",
      "\t\tsize: 4104797\n",
      "\t\ttype: dtype('int16')\n",
      "\t\t_FillValue: -99\n",
      "\t\tstandard_name: 'sea_surface_swell_wave_significant_height'\n",
      "\t\tlong_name: 'Swell Height'\n",
      "\t\tunits: 'm'\n",
      "\t\tvalid_min: 0\n",
      "\t\tvalid_max: 99\n",
      "\t\tcoordinates: 'time lat lon'\n",
      "\t\tgrid_mapping: 'crs'\n",
      "\t\tcell_methods: 'time: point'\n",
      "\t\tcomment: 'Half meters'\n",
      "\t\tancillary_variables: 'FNC'\n",
      "\tName: B10\n",
      "\t\tdimensions: ('obs',)\n",
      "\t\tsize: 4104797\n",
      "\t\ttype: dtype('int16')\n",
      "\t\t_FillValue: -99\n",
      "\t\tlong_name: 'Ten Degree Box Number'\n",
      "\t\tvalid_min: 1\n",
      "\t\tvalid_max: 648\n",
      "\t\tcoordinates: 'time lat lon'\n",
      "\t\tgrid_mapping: 'crs'\n",
      "\t\tcell_methods: 'time: point'\n",
      "\t\tcomment: 'Ten Degree Box Number'\n",
      "\tName: B1\n",
      "\t\tdimensions: ('obs',)\n",
      "\t\tsize: 4104797\n",
      "\t\ttype: dtype('int16')\n",
      "\t\t_FillValue: -99\n",
      "\t\tlong_name: 'One Degree Box Number'\n",
      "\t\tvalid_min: 0\n",
      "\t\tvalid_max: 99\n",
      "\t\tcoordinates: 'time lat lon'\n",
      "\t\tgrid_mapping: 'crs'\n",
      "\t\tcell_methods: 'time: point'\n",
      "\t\tcomment: '1 Degree Box Number'\n",
      "\tName: DCK\n",
      "\t\tdimensions: ('obs',)\n",
      "\t\tsize: 4104797\n",
      "\t\ttype: dtype('int16')\n",
      "\t\t_FillValue: -99\n",
      "\t\tlong_name: 'Deck'\n",
      "\t\tvalid_min: 0\n",
      "\t\tvalid_max: 999\n",
      "\t\tcoordinates: 'time lat lon'\n",
      "\t\tgrid_mapping: 'crs'\n",
      "\t\tcell_methods: 'time: point'\n",
      "\t\tcomment: 'Number of Deck from which report came (IMMA Table D6a)'\n",
      "\tName: SID\n",
      "\t\tdimensions: ('obs',)\n",
      "\t\tsize: 4104797\n",
      "\t\ttype: dtype('int16')\n",
      "\t\t_FillValue: -99\n",
      "\t\tlong_name: 'Source'\n",
      "\t\tvalid_min: 0\n",
      "\t\tvalid_max: 999\n",
      "\t\tcoordinates: 'time lat lon'\n",
      "\t\tgrid_mapping: 'crs'\n",
      "\t\tcell_methods: 'time: point'\n",
      "\t\tcomment: 'Source ID from which report came (IMMA Table D7)'\n",
      "\tName: PT\n",
      "\t\tdimensions: ('obs',)\n",
      "\t\tsize: 4104797\n",
      "\t\ttype: dtype('int16')\n",
      "\t\t_FillValue: -99\n",
      "\t\tlong_name: 'Platform Type Indicator'\n",
      "\t\tvalid_min: 0\n",
      "\t\tvalid_max: 21\n",
      "\t\tcoordinates: 'time lat lon'\n",
      "\t\tgrid_mapping: 'crs'\n",
      "\t\tcell_methods: 'time: point'\n",
      "\t\tcomment: 'Type of observing platform'\n",
      "\tName: DUPS\n",
      "\t\tdimensions: ('obs',)\n",
      "\t\tsize: 4104797\n",
      "\t\ttype: dtype('int16')\n",
      "\t\t_FillValue: -99\n",
      "\t\tlong_name: 'Duplicate Status'\n",
      "\t\tvalid_min: 0\n",
      "\t\tvalid_max: 14\n",
      "\t\tflag_values: array([ 0,  1,  2,  3,  4,  5,  6,  7,  8,  9, 10, 11, 12, 13, 14],\n",
      "      dtype=int16)\n",
      "\t\tflag_meanings: 'unique best_duplicate best_duplicate_with_substitution worse_duplicate_uncertain_weather_element_match_with_hour_cross worse_duplicate_uncertain_weather_element_match_with_no_cross worse_duplicate_uncertain_weather_element_match_with_day_cross worse_duplicate_time_space_match_with_ID_mismatch_unused_until_1950 worse_duplicate_certain_weather_element_match_with_hour_cross worse_duplicate_certain_weather_element_match_with_no_cross worse_duplicate_combined_DUPS_4_and_6 worse_duplicate_combined_DUPS_6_and_8 worse_duplicate_time_space_ID_match worse_duplicate_combined_DUPS_4_and_11 worse_duplicate_combined_DUPS_8_and_11 automatic_data_rejection'\n",
      "\t\tcoordinates: 'time lat lon'\n",
      "\t\tgrid_mapping: 'crs'\n",
      "\t\tcell_methods: 'time: point'\n",
      "\t\tcomment: 'Indicates duplicate status'\n",
      "\tName: DUPC\n",
      "\t\tdimensions: ('obs',)\n",
      "\t\tsize: 4104797\n",
      "\t\ttype: dtype('int16')\n",
      "\t\t_FillValue: -99\n",
      "\t\tlong_name: 'Duplicate Check'\n",
      "\t\tvalid_min: 0\n",
      "\t\tvalid_max: 2\n",
      "\t\tcoordinates: 'time lat lon'\n",
      "\t\tgrid_mapping: 'crs'\n",
      "\t\tcell_methods: 'time: point'\n",
      "\t\tcomment: 'Indicates matches of slp and or sst between GTS and logbook reports'\n",
      "\tName: ND\n",
      "\t\tdimensions: ('obs',)\n",
      "\t\tsize: 4104797\n",
      "\t\ttype: dtype('int16')\n",
      "\t\t_FillValue: -99\n",
      "\t\tlong_name: 'Night/Day Flag'\n",
      "\t\tvalid_min: 1\n",
      "\t\tvalid_max: 2\n",
      "\t\tflag_values: array([1, 2], dtype=int16)\n",
      "\t\tflag_meanings: 'report_time_is_local_nighttime report_time_is_local_daytime'\n",
      "\t\tcoordinates: 'time lat lon'\n",
      "\t\tgrid_mapping: 'crs'\n",
      "\t\tcell_methods: 'time: point'\n",
      "\t\tcomment: 'Indicates if report taken during day or night'\n",
      "\tName: SF\n",
      "\t\tdimensions: ('obs',)\n",
      "\t\tsize: 4104797\n",
      "\t\ttype: dtype('int16')\n",
      "\t\t_FillValue: -99\n",
      "\t\tlong_name: 'Trimming Flag - SST'\n",
      "\t\tvalid_min: 1\n",
      "\t\tvalid_max: 15\n",
      "\t\tflag_values: array([ 1,  2,  3,  4,  5,  6,  7, 11, 12, 13, 14, 15], dtype=int16)\n",
      "\t\tflag_meanings: 'within_plus_minus_2.8_sigma minus_3.5_sigma_to_minus_2.8_sigma 2.8_sigma_to_3.5_sigma minus_4.5_sigma_to_minus_3.5_sigma 3.5_sigma_to_4.5_sigma less_than_minus_4.5_sigma greater_than_4.5_sigma limits_missing_ocean_coastal_box_MEDS_data_correct limits_missing_ocean_coastal_box landlocked_2_degree_box data_unusable_SF_AF_PF_only data_missing_or_uncomputable'\n",
      "\t\tcoordinates: 'time lat lon'\n",
      "\t\tgrid_mapping: 'crs'\n",
      "\t\tcell_methods: 'time: point'\n",
      "\t\tcomment: 'QC/Trimming flag SST http://icoads.noaa.gov/e-doc/stat_trim'\n",
      "\tName: AF\n",
      "\t\tdimensions: ('obs',)\n",
      "\t\tsize: 4104797\n",
      "\t\ttype: dtype('int16')\n",
      "\t\t_FillValue: -99\n",
      "\t\tlong_name: 'Trimming Flag - Air Temperature'\n",
      "\t\tvalid_min: 1\n",
      "\t\tvalid_max: 15\n",
      "\t\tflag_values: array([ 1,  2,  3,  4,  5,  6,  7, 11, 12, 13, 14, 15], dtype=int16)\n",
      "\t\tflag_meanings: 'within_plus_minus_2.8_sigma minus_3.5_sigma_to_minus_2.8_sigma 2.8_sigma_to_3.5_sigma minus_4.5_sigma_to_minus_3.5_sigma 3.5_sigma_to_4.5_sigma less_than_minus_4.5_sigma greater_than_4.5_sigma limits_missing_ocean_coastal_box_MEDS_data_correct limits_missing_ocean_coastal_box landlocked_2_degree_box data_unusable_SF_AF_PF_only data_missing_or_uncomputable'\n",
      "\t\tcoordinates: 'time lat lon'\n",
      "\t\tgrid_mapping: 'crs'\n",
      "\t\tcell_methods: 'time: point'\n",
      "\t\tcomment: 'QC/Trimming flag Air Temp http://icoads.noaa.gov/e-doc/stat_trim'\n",
      "\tName: UF\n",
      "\t\tdimensions: ('obs',)\n",
      "\t\tsize: 4104797\n",
      "\t\ttype: dtype('int16')\n",
      "\t\t_FillValue: -99\n",
      "\t\tlong_name: 'Trimming Flag - U Wind Component'\n",
      "\t\tvalid_min: 1\n",
      "\t\tvalid_max: 15\n",
      "\t\tflag_values: array([ 1,  2,  3,  4,  5,  6,  7, 11, 12, 13, 14, 15], dtype=int16)\n",
      "\t\tflag_meanings: 'within_plus_minus_2.8_sigma minus_3.5_sigma_to_minus_2.8_sigma 2.8_sigma_to_3.5_sigma minus_4.5_sigma_to_minus_3.5_sigma 3.5_sigma_to_4.5_sigma less_than_minus_4.5_sigma greater_than_4.5_sigma limits_missing_ocean_coastal_box_MEDS_data_correct limits_missing_ocean_coastal_box landlocked_2_degree_box data_unusable_SF_AF_PF_only data_missing_or_uncomputable'\n",
      "\t\tcoordinates: 'time lat lon'\n",
      "\t\tgrid_mapping: 'crs'\n",
      "\t\tcell_methods: 'time: point'\n",
      "\t\tcomment: 'QC/Trimming flag U Wind http://icoads.noaa.gov/e-doc/stat_trim'\n",
      "\tName: VF\n",
      "\t\tdimensions: ('obs',)\n",
      "\t\tsize: 4104797\n",
      "\t\ttype: dtype('int16')\n",
      "\t\t_FillValue: -99\n",
      "\t\tlong_name: 'Trimming Flag - V Wind Component'\n",
      "\t\tvalid_min: 1\n",
      "\t\tvalid_max: 15\n",
      "\t\tflag_values: array([ 1,  2,  3,  4,  5,  6,  7, 11, 12, 13, 14, 15], dtype=int16)\n",
      "\t\tflag_meanings: 'within_plus_minus_2.8_sigma minus_3.5_sigma_to_minus_2.8_sigma 2.8_sigma_to_3.5_sigma minus_4.5_sigma_to_minus_3.5_sigma 3.5_sigma_to_4.5_sigma less_than_minus_4.5_sigma greater_than_4.5_sigma limits_missing_ocean_coastal_box_MEDS_data_correct limits_missing_ocean_coastal_box landlocked_2_degree_box data_unusable_SF_AF_PF_only data_missing_or_uncomputable'\n",
      "\t\tcoordinates: 'time lat lon'\n",
      "\t\tgrid_mapping: 'crs'\n",
      "\t\tcell_methods: 'time: point'\n",
      "\t\tcomment: 'QC/Trimming flag V Wind http://icoads.noaa.gov/e-doc/stat_trim'\n",
      "\tName: PF\n",
      "\t\tdimensions: ('obs',)\n",
      "\t\tsize: 4104797\n",
      "\t\ttype: dtype('int16')\n",
      "\t\t_FillValue: -99\n",
      "\t\tlong_name: 'Trimming Flag - Sea Level Pressure'\n",
      "\t\tvalid_min: 1\n",
      "\t\tvalid_max: 15\n",
      "\t\tflag_values: array([ 1,  2,  3,  4,  5,  6,  7, 11, 12, 13, 14, 15], dtype=int16)\n",
      "\t\tflag_meanings: 'within_plus_minus_2.8_sigma minus_3.5_sigma_to_minus_2.8_sigma 2.8_sigma_to_3.5_sigma minus_4.5_sigma_to_minus_3.5_sigma 3.5_sigma_to_4.5_sigma less_than_minus_4.5_sigma greater_than_4.5_sigma limits_missing_ocean_coastal_box_MEDS_data_correct limits_missing_ocean_coastal_box landlocked_2_degree_box data_unusable_SF_AF_PF_only data_missing_or_uncomputable'\n",
      "\t\tcoordinates: 'time lat lon'\n",
      "\t\tgrid_mapping: 'crs'\n",
      "\t\tcell_methods: 'time: point'\n",
      "\t\tcomment: 'QC/Trimming flag SLP http://icoads.noaa.gov/e-doc/stat_trim'\n",
      "\tName: RF\n",
      "\t\tdimensions: ('obs',)\n",
      "\t\tsize: 4104797\n",
      "\t\ttype: dtype('int16')\n",
      "\t\t_FillValue: -99\n",
      "\t\tlong_name: 'Trimming Flag - Relative Humidity'\n",
      "\t\tvalid_min: 1\n",
      "\t\tvalid_max: 15\n",
      "\t\tflag_values: array([ 1,  2,  3,  4,  5,  6,  7, 11, 12, 13, 14, 15], dtype=int16)\n",
      "\t\tflag_meanings: 'within_plus_minus_2.8_sigma minus_3.5_sigma_to_minus_2.8_sigma 2.8_sigma_to_3.5_sigma minus_4.5_sigma_to_minus_3.5_sigma 3.5_sigma_to_4.5_sigma less_than_minus_4.5_sigma greater_than_4.5_sigma limits_missing_ocean_coastal_box_MEDS_data_correct limits_missing_ocean_coastal_box landlocked_2_degree_box data_unusable_SF_AF_PF_only data_missing_or_uncomputable'\n",
      "\t\tcoordinates: 'time lat lon'\n",
      "\t\tgrid_mapping: 'crs'\n",
      "\t\tcell_methods: 'time: point'\n",
      "\t\tcomment: 'QC/Trimming flag Relative Humidity http://icoads.noaa.gov/e-doc/stat_trim'\n",
      "\tName: ZNC\n",
      "\t\tdimensions: ('obs',)\n",
      "\t\tsize: 4104797\n",
      "\t\ttype: dtype('int16')\n",
      "\t\t_FillValue: -99\n",
      "\t\tlong_name: 'NCDC QC Flags - Full Report'\n",
      "\t\tvalid_min: 1\n",
      "\t\tvalid_max: 10\n",
      "\t\tflag_values: array([ 1,  2,  3,  4,  5,  6,  7,  8,  9, 10], dtype=int16)\n",
      "\t\tflag_meanings: 'correct correctable_legality correctable_internal_consistency suspect_internal_consistency suspect_time suspect_extreme_outside_plus_minus_4.8_sigma erroneous_legality erroneous_internal_consistency erroneous_outside_plus_minus_5.8_sigma missing'\n",
      "\t\tcoordinates: 'time lat lon'\n",
      "\t\tgrid_mapping: 'crs'\n",
      "\t\tcell_methods: 'time: point'\n",
      "\t\tcomment: 'NCDC QC Flags - Full Report Table J0-2 http://icoads.noaa.gov/Release_1/suppJ.html'\n",
      "\tName: WNC\n",
      "\t\tdimensions: ('obs',)\n",
      "\t\tsize: 4104797\n",
      "\t\ttype: dtype('int16')\n",
      "\t\t_FillValue: -99\n",
      "\t\tlong_name: 'NCDC QC Flags - Wind'\n",
      "\t\tvalid_min: 1\n",
      "\t\tvalid_max: 10\n",
      "\t\tflag_values: array([ 1,  2,  3,  4,  5,  6,  7,  8,  9, 10], dtype=int16)\n",
      "\t\tflag_meanings: 'correct correctable_legality correctable_internal_consistency suspect_internal_consistency suspect_time suspect_extreme_outside_plus_minus_4.8_sigma erroneous_legality erroneous_internal_consistency erroneous_outside_plus_minus_5.8_sigma missing'\n",
      "\t\tcoordinates: 'time lat lon'\n",
      "\t\tgrid_mapping: 'crs'\n",
      "\t\tcell_methods: 'time: point'\n",
      "\t\tcomment: 'NCDC QC Flags - Wind Table J0-2 http://icoads.noaa.gov/Release_1/suppJ.html'\n",
      "\tName: BNC\n",
      "\t\tdimensions: ('obs',)\n",
      "\t\tsize: 4104797\n",
      "\t\ttype: dtype('int16')\n",
      "\t\t_FillValue: -99\n",
      "\t\tlong_name: 'NCDC QC Flags - Visibility'\n",
      "\t\tvalid_min: 1\n",
      "\t\tvalid_max: 10\n",
      "\t\tflag_values: array([ 1,  2,  3,  4,  5,  6,  7,  8,  9, 10], dtype=int16)\n",
      "\t\tflag_meanings: 'correct correctable_legality correctable_internal_consistency suspect_internal_consistency suspect_time suspect_extreme_outside_plus_minus_4.8_sigma erroneous_legality erroneous_internal_consistency erroneous_outside_plus_minus_5.8_sigma missing'\n",
      "\t\tcoordinates: 'time lat lon'\n",
      "\t\tgrid_mapping: 'crs'\n",
      "\t\tcell_methods: 'time: point'\n",
      "\t\tcomment: 'NCDC QC Flags - Visibility Table J0-2 http://icoads.noaa.gov/Release_1/suppJ.html'\n",
      "\tName: XNC\n",
      "\t\tdimensions: ('obs',)\n",
      "\t\tsize: 4104797\n",
      "\t\ttype: dtype('int16')\n",
      "\t\t_FillValue: -99\n",
      "\t\tlong_name: 'NCDC QC Flags - Present Wx'\n",
      "\t\tvalid_min: 1\n",
      "\t\tvalid_max: 10\n",
      "\t\tflag_values: array([ 1,  2,  3,  4,  5,  6,  7,  8,  9, 10], dtype=int16)\n",
      "\t\tflag_meanings: 'correct correctable_legality correctable_internal_consistency suspect_internal_consistency suspect_time suspect_extreme_outside_plus_minus_4.8_sigma erroneous_legality erroneous_internal_consistency erroneous_outside_plus_minus_5.8_sigma missing'\n",
      "\t\tcoordinates: 'time lat lon'\n",
      "\t\tgrid_mapping: 'crs'\n",
      "\t\tcell_methods: 'time: point'\n",
      "\t\tcomment: 'NCDC QC Flags - Present Wx Table J0-2 http://icoads.noaa.gov/Release_1/suppJ.html'\n",
      "\tName: YNC\n",
      "\t\tdimensions: ('obs',)\n",
      "\t\tsize: 4104797\n",
      "\t\ttype: dtype('int16')\n",
      "\t\t_FillValue: -99\n",
      "\t\tlong_name: 'NCDC QC Flags - Past Wx'\n",
      "\t\tvalid_min: 1\n",
      "\t\tvalid_max: 10\n",
      "\t\tflag_values: array([ 1,  2,  3,  4,  5,  6,  7,  8,  9, 10], dtype=int16)\n",
      "\t\tflag_meanings: 'correct correctable_legality correctable_internal_consistency suspect_internal_consistency suspect_time suspect_extreme_outside_plus_minus_4.8_sigma erroneous_legality erroneous_internal_consistency erroneous_outside_plus_minus_5.8_sigma missing'\n",
      "\t\tcoordinates: 'time lat lon'\n",
      "\t\tgrid_mapping: 'crs'\n",
      "\t\tcell_methods: 'time: point'\n",
      "\t\tcomment: 'NCDC QC Flags - Past Wx Table J0-2 http://icoads.noaa.gov/Release_1/suppJ.html'\n",
      "\tName: PNC\n",
      "\t\tdimensions: ('obs',)\n",
      "\t\tsize: 4104797\n",
      "\t\ttype: dtype('int16')\n",
      "\t\t_FillValue: -99\n",
      "\t\tlong_name: 'NCDC QC Flags - SLP'\n",
      "\t\tvalid_min: 1\n",
      "\t\tvalid_max: 10\n",
      "\t\tflag_values: array([ 1,  2,  3,  4,  5,  6,  7,  8,  9, 10], dtype=int16)\n",
      "\t\tflag_meanings: 'correct correctable_legality correctable_internal_consistency suspect_internal_consistency suspect_time suspect_extreme_outside_plus_minus_4.8_sigma erroneous_legality erroneous_internal_consistency erroneous_outside_plus_minus_5.8_sigma missing'\n",
      "\t\tcoordinates: 'time lat lon'\n",
      "\t\tgrid_mapping: 'crs'\n",
      "\t\tcell_methods: 'time: point'\n",
      "\t\tcomment: 'NCDC QC Flags - SLP Table J0-2 http://icoads.noaa.gov/Release_1/suppJ.html'\n",
      "\tName: ANC\n",
      "\t\tdimensions: ('obs',)\n",
      "\t\tsize: 4104797\n",
      "\t\ttype: dtype('int16')\n",
      "\t\t_FillValue: -99\n",
      "\t\tlong_name: 'NCDC QC Flags - Air Temp'\n",
      "\t\tvalid_min: 1\n",
      "\t\tvalid_max: 10\n",
      "\t\tflag_values: array([ 1,  2,  3,  4,  5,  6,  7,  8,  9, 10], dtype=int16)\n",
      "\t\tflag_meanings: 'correct correctable_legality correctable_internal_consistency suspect_internal_consistency suspect_time suspect_extreme_outside_plus_minus_4.8_sigma erroneous_legality erroneous_internal_consistency erroneous_outside_plus_minus_5.8_sigma missing'\n",
      "\t\tcoordinates: 'time lat lon'\n",
      "\t\tgrid_mapping: 'crs'\n",
      "\t\tcell_methods: 'time: point'\n",
      "\t\tcomment: 'NCDC QC Flags - Air Temp Table J0-2 http://icoads.noaa.gov/Release_1/suppJ.html'\n",
      "\tName: GNC\n",
      "\t\tdimensions: ('obs',)\n",
      "\t\tsize: 4104797\n",
      "\t\ttype: dtype('int16')\n",
      "\t\t_FillValue: -99\n",
      "\t\tlong_name: 'NCDC QC Flags - Wet Bulb'\n",
      "\t\tvalid_min: 1\n",
      "\t\tvalid_max: 10\n",
      "\t\tflag_values: array([ 1,  2,  3,  4,  5,  6,  7,  8,  9, 10], dtype=int16)\n",
      "\t\tflag_meanings: 'correct correctable_legality correctable_internal_consistency suspect_internal_consistency suspect_time suspect_extreme_outside_plus_minus_4.8_sigma erroneous_legality erroneous_internal_consistency erroneous_outside_plus_minus_5.8_sigma missing'\n",
      "\t\tcoordinates: 'time lat lon'\n",
      "\t\tgrid_mapping: 'crs'\n",
      "\t\tcell_methods: 'time: point'\n",
      "\t\tcomment: 'NCDC QC Flags - Wet Bulb Table J0-2 http://icoads.noaa.gov/Release_1/suppJ.html'\n",
      "\tName: DNC\n",
      "\t\tdimensions: ('obs',)\n",
      "\t\tsize: 4104797\n",
      "\t\ttype: dtype('int16')\n",
      "\t\t_FillValue: -99\n",
      "\t\tlong_name: 'NCDC QC Flags - Dew Point'\n",
      "\t\tvalid_min: 1\n",
      "\t\tvalid_max: 10\n",
      "\t\tflag_values: array([ 1,  2,  3,  4,  5,  6,  7,  8,  9, 10], dtype=int16)\n",
      "\t\tflag_meanings: 'correct correctable_legality correctable_internal_consistency suspect_internal_consistency suspect_time suspect_extreme_outside_plus_minus_4.8_sigma erroneous_legality erroneous_internal_consistency erroneous_outside_plus_minus_5.8_sigma missing'\n",
      "\t\tcoordinates: 'time lat lon'\n",
      "\t\tgrid_mapping: 'crs'\n",
      "\t\tcell_methods: 'time: point'\n",
      "\t\tcomment: 'NCDC QC Flags - Dew Point Table J0-2 http://icoads.noaa.gov/Release_1/suppJ.html'\n",
      "\tName: SNC\n",
      "\t\tdimensions: ('obs',)\n",
      "\t\tsize: 4104797\n",
      "\t\ttype: dtype('int16')\n",
      "\t\t_FillValue: -99\n",
      "\t\tlong_name: 'NCDC QC Flags - SST'\n",
      "\t\tvalid_min: 1\n",
      "\t\tvalid_max: 10\n",
      "\t\tflag_values: array([ 1,  2,  3,  4,  5,  6,  7,  8,  9, 10], dtype=int16)\n",
      "\t\tflag_meanings: 'correct correctable_legality correctable_internal_consistency suspect_internal_consistency suspect_time suspect_extreme_outside_plus_minus_4.8_sigma erroneous_legality erroneous_internal_consistency erroneous_outside_plus_minus_5.8_sigma missing'\n",
      "\t\tcoordinates: 'time lat lon'\n",
      "\t\tgrid_mapping: 'crs'\n",
      "\t\tcell_methods: 'time: point'\n",
      "\t\tcomment: 'NCDC QC Flags - SST Table J0-2 http://icoads.noaa.gov/Release_1/suppJ.html'\n",
      "\tName: CNC\n",
      "\t\tdimensions: ('obs',)\n",
      "\t\tsize: 4104797\n",
      "\t\ttype: dtype('int16')\n",
      "\t\t_FillValue: -99\n",
      "\t\tlong_name: 'NCDC QC Flags - Clouds'\n",
      "\t\tvalid_min: 1\n",
      "\t\tvalid_max: 10\n",
      "\t\tflag_values: array([ 1,  2,  3,  4,  5,  6,  7,  8,  9, 10], dtype=int16)\n",
      "\t\tflag_meanings: 'correct correctable_legality correctable_internal_consistency suspect_internal_consistency suspect_time suspect_extreme_outside_plus_minus_4.8_sigma erroneous_legality erroneous_internal_consistency erroneous_outside_plus_minus_5.8_sigma missing'\n",
      "\t\tcoordinates: 'time lat lon'\n",
      "\t\tgrid_mapping: 'crs'\n",
      "\t\tcell_methods: 'time: point'\n",
      "\t\tcomment: 'NCDC QC Flags - Clouds Table J0-2 http://icoads.noaa.gov/Release_1/suppJ.html'\n",
      "\tName: ENC\n",
      "\t\tdimensions: ('obs',)\n",
      "\t\tsize: 4104797\n",
      "\t\ttype: dtype('int16')\n",
      "\t\t_FillValue: -99\n",
      "\t\tlong_name: 'NCDC QC Flags - Wind Waves'\n",
      "\t\tvalid_min: 1\n",
      "\t\tvalid_max: 10\n",
      "\t\tflag_values: array([ 1,  2,  3,  4,  5,  6,  7,  8,  9, 10], dtype=int16)\n",
      "\t\tflag_meanings: 'correct correctable_legality correctable_internal_consistency suspect_internal_consistency suspect_time suspect_extreme_outside_plus_minus_4.8_sigma erroneous_legality erroneous_internal_consistency erroneous_outside_plus_minus_5.8_sigma missing'\n",
      "\t\tcoordinates: 'time lat lon'\n",
      "\t\tgrid_mapping: 'crs'\n",
      "\t\tcell_methods: 'time: point'\n",
      "\t\tcomment: 'NCDC QC Flags - Wind Waves Table J0-2 http://icoads.noaa.gov/Release_1/suppJ.html'\n",
      "\tName: FNC\n",
      "\t\tdimensions: ('obs',)\n",
      "\t\tsize: 4104797\n",
      "\t\ttype: dtype('int16')\n",
      "\t\t_FillValue: -99\n",
      "\t\tlong_name: 'NCDC QC Flags - Swells'\n",
      "\t\tvalid_min: 1\n",
      "\t\tvalid_max: 10\n",
      "\t\tflag_values: array([ 1,  2,  3,  4,  5,  6,  7,  8,  9, 10], dtype=int16)\n",
      "\t\tflag_meanings: 'correct correctable_legality correctable_internal_consistency suspect_internal_consistency suspect_time suspect_extreme_outside_plus_minus_4.8_sigma erroneous_legality erroneous_internal_consistency erroneous_outside_plus_minus_5.8_sigma missing'\n",
      "\t\tcoordinates: 'time lat lon'\n",
      "\t\tgrid_mapping: 'crs'\n",
      "\t\tcell_methods: 'time: point'\n",
      "\t\tcomment: 'NCDC QC Flags - Swells Table J0-2 http://icoads.noaa.gov/Release_1/suppJ.html'\n",
      "\tName: TNC\n",
      "\t\tdimensions: ('obs',)\n",
      "\t\tsize: 4104797\n",
      "\t\ttype: dtype('int16')\n",
      "\t\t_FillValue: -99\n",
      "\t\tlong_name: 'NCDC QC Flags - Character of Pressure Tendency'\n",
      "\t\tvalid_min: 1\n",
      "\t\tvalid_max: 10\n",
      "\t\tflag_values: array([ 1,  2,  3,  4,  5,  6,  7,  8,  9, 10], dtype=int16)\n",
      "\t\tflag_meanings: 'correct correctable_legality correctable_internal_consistency suspect_internal_consistency suspect_time suspect_extreme_outside_plus_minus_4.8_sigma erroneous_legality erroneous_internal_consistency erroneous_outside_plus_minus_5.8_sigma missing'\n",
      "\t\tcoordinates: 'time lat lon'\n",
      "\t\tgrid_mapping: 'crs'\n",
      "\t\tcell_methods: 'time: point'\n",
      "\t\tcomment: 'NCDC QC Flags - Character of Pressure Tendency Table J0-2 http://icoads.noaa.gov/Release_1/suppJ.html'\n",
      "\tName: QCZ\n",
      "\t\tdimensions: ('obs',)\n",
      "\t\tsize: 4104797\n",
      "\t\ttype: dtype('int16')\n",
      "\t\t_FillValue: -99\n",
      "\t\tlong_name: 'Source Exclusion Flag'\n",
      "\t\tvalid_min: 0\n",
      "\t\tvalid_max: 31\n",
      "\t\tflag_values: 1\n",
      "\t\tflag_meanings: 'data_automatically_disqualified_from_statistics'\n",
      "\t\tcoordinates: 'time lat lon'\n",
      "\t\tgrid_mapping: 'crs'\n",
      "\t\tcell_methods: 'time: point'\n",
      "\t\tcomment: 'Indicates report retained in cases of duplicates'\n",
      "\tName: IX\n",
      "\t\tdimensions: ('obs',)\n",
      "\t\tsize: 4104797\n",
      "\t\ttype: dtype('int16')\n",
      "\t\t_FillValue: -99\n",
      "\t\tlong_name: 'Weather Indicator'\n",
      "\t\tvalid_min: 1\n",
      "\t\tvalid_max: 7\n",
      "\t\tcoordinates: 'time lat lon'\n",
      "\t\tgrid_mapping: 'crs'\n",
      "\t\tcell_methods: 'time: point'\n",
      "\t\tcomment: 'WMO Code Table 1860'\n",
      "\tName: W2\n",
      "\t\tdimensions: ('obs',)\n",
      "\t\tsize: 4104797\n",
      "\t\ttype: dtype('int16')\n",
      "\t\t_FillValue: -99\n",
      "\t\tlong_name: 'Past Weather 2'\n",
      "\t\tvalid_min: 0\n",
      "\t\tvalid_max: 9\n",
      "\t\tcoordinates: 'time lat lon'\n",
      "\t\tgrid_mapping: 'crs'\n",
      "\t\tcell_methods: 'time: point'\n",
      "\t\tcomment: 'WMO Code Table 4561'\n",
      "\tName: SD2\n",
      "\t\tdimensions: ('obs',)\n",
      "\t\tsize: 4104797\n",
      "\t\ttype: dtype('int16')\n",
      "\t\t_FillValue: -99\n",
      "\t\tlong_name: 'Swell Direction 2'\n",
      "\t\tvalid_min: 0\n",
      "\t\tvalid_max: 38\n",
      "\t\tcoordinates: 'time lat lon'\n",
      "\t\tgrid_mapping: 'crs'\n",
      "\t\tcell_methods: 'time: point'\n",
      "\t\tcomment: 'Tens of Degrees following WMO Code Table 0877'\n",
      "\tName: SP2\n",
      "\t\tdimensions: ('obs',)\n",
      "\t\tsize: 4104797\n",
      "\t\ttype: dtype('int16')\n",
      "\t\t_FillValue: -99\n",
      "\t\tstandard_name: 'sea_surface_swell_wave_period'\n",
      "\t\tlong_name: 'Swell Period 2'\n",
      "\t\tvalid_min: 0\n",
      "\t\tvalid_max: 30\n",
      "\t\tcoordinates: 'time lat lon'\n",
      "\t\tgrid_mapping: 'crs'\n",
      "\t\tcell_methods: 'time: point'\n",
      "\t\tcomment: 'whole seconds'\n",
      "\tName: SH2\n",
      "\t\tdimensions: ('obs',)\n",
      "\t\tsize: 4104797\n",
      "\t\ttype: dtype('int16')\n",
      "\t\t_FillValue: -99\n",
      "\t\tstandard_name: 'sea_surface_swell_wave_significant_height'\n",
      "\t\tlong_name: 'Swell Height 2'\n",
      "\t\tvalid_min: 0\n",
      "\t\tvalid_max: 99\n",
      "\t\tcoordinates: 'time lat lon'\n",
      "\t\tgrid_mapping: 'crs'\n",
      "\t\tcell_methods: 'time: point'\n",
      "\t\tcomment: 'Half meters'\n",
      "\tName: IS\n",
      "\t\tdimensions: ('obs',)\n",
      "\t\tsize: 4104797\n",
      "\t\ttype: dtype('int16')\n",
      "\t\t_FillValue: -99\n",
      "\t\tlong_name: 'Ice Accretion On Ship'\n",
      "\t\tvalid_min: 1\n",
      "\t\tvalid_max: 5\n",
      "\t\tcoordinates: 'time lat lon'\n",
      "\t\tgrid_mapping: 'crs'\n",
      "\t\tcell_methods: 'time: point'\n",
      "\t\tcomment: 'WMO Code Table 1751'\n",
      "\tName: ES\n",
      "\t\tdimensions: ('obs',)\n",
      "\t\tsize: 4104797\n",
      "\t\ttype: dtype('int16')\n",
      "\t\t_FillValue: -99\n",
      "\t\tlong_name: 'Thickness of Ice Accretion On Ship'\n",
      "\t\tunits: 'cm'\n",
      "\t\tvalid_min: 0\n",
      "\t\tvalid_max: 99\n",
      "\t\tcoordinates: 'time lat lon'\n",
      "\t\tgrid_mapping: 'crs'\n",
      "\t\tcell_methods: 'time: point'\n",
      "\t\tcomment: 'centimeters'\n",
      "\tName: RS\n",
      "\t\tdimensions: ('obs',)\n",
      "\t\tsize: 4104797\n",
      "\t\ttype: dtype('int16')\n",
      "\t\t_FillValue: -99\n",
      "\t\tlong_name: 'Rate of Ice Accretion on Ship'\n",
      "\t\tvalid_min: 0\n",
      "\t\tvalid_max: 4\n",
      "\t\tcoordinates: 'time lat lon'\n",
      "\t\tgrid_mapping: 'crs'\n",
      "\t\tcell_methods: 'time: point'\n",
      "\t\tcomment: 'WMO Code Table 3551'\n",
      "\tName: IC1\n",
      "\t\tdimensions: ('obs',)\n",
      "\t\tsize: 4104797\n",
      "\t\ttype: dtype('int16')\n",
      "\t\t_FillValue: -99\n",
      "\t\tlong_name: 'Concentration of Sea Ice'\n",
      "\t\tvalid_min: 0.0\n",
      "\t\tvalid_max: 10.0\n",
      "\t\tcoordinates: 'time lat lon'\n",
      "\t\tgrid_mapping: 'crs'\n",
      "\t\tcell_methods: 'time: point'\n",
      "\t\tcomment: 'WMO Code Table 0639'\n",
      "\tName: IC2\n",
      "\t\tdimensions: ('obs',)\n",
      "\t\tsize: 4104797\n",
      "\t\ttype: dtype('int16')\n",
      "\t\t_FillValue: -99\n",
      "\t\tlong_name: 'Stage of Development of Sea Ice'\n",
      "\t\tvalid_min: 0.0\n",
      "\t\tvalid_max: 10.0\n",
      "\t\tcoordinates: 'time lat lon'\n",
      "\t\tgrid_mapping: 'crs'\n",
      "\t\tcell_methods: 'time: point'\n",
      "\t\tcomment: 'WMO Code Table 3739'\n",
      "\tName: IC3\n",
      "\t\tdimensions: ('obs',)\n",
      "\t\tsize: 4104797\n",
      "\t\ttype: dtype('int16')\n",
      "\t\t_FillValue: -99\n",
      "\t\tlong_name: 'Ice of Land Origin'\n",
      "\t\tvalid_min: 0.0\n",
      "\t\tvalid_max: 10.0\n",
      "\t\tcoordinates: 'time lat lon'\n",
      "\t\tgrid_mapping: 'crs'\n",
      "\t\tcell_methods: 'time: point'\n",
      "\t\tcomment: 'WMO Code Table 0439'\n",
      "\tName: IC4\n",
      "\t\tdimensions: ('obs',)\n",
      "\t\tsize: 4104797\n",
      "\t\ttype: dtype('int16')\n",
      "\t\t_FillValue: -99\n",
      "\t\tlong_name: 'Ice Edge Bearing'\n",
      "\t\tvalid_min: 0.0\n",
      "\t\tvalid_max: 10.0\n",
      "\t\tcoordinates: 'time lat lon'\n",
      "\t\tgrid_mapping: 'crs'\n",
      "\t\tcell_methods: 'time: point'\n",
      "\t\tcomment: 'WMO Code Table 0739'\n",
      "\tName: IC5\n",
      "\t\tdimensions: ('obs',)\n",
      "\t\tsize: 4104797\n",
      "\t\ttype: dtype('int16')\n",
      "\t\t_FillValue: -99\n",
      "\t\tlong_name: 'Ice trend'\n",
      "\t\tvalid_min: 0.0\n",
      "\t\tvalid_max: 10.0\n",
      "\t\tcoordinates: 'time lat lon'\n",
      "\t\tgrid_mapping: 'crs'\n",
      "\t\tcell_methods: 'time: point'\n",
      "\t\tcomment: 'WMO Code Table 5239'\n",
      "\tName: IR\n",
      "\t\tdimensions: ('obs',)\n",
      "\t\tsize: 4104797\n",
      "\t\ttype: dtype('int16')\n",
      "\t\t_FillValue: -99\n",
      "\t\tlong_name: 'Precipitation Indicator'\n",
      "\t\tvalid_min: 0\n",
      "\t\tvalid_max: 4\n",
      "\t\tcoordinates: 'time lat lon'\n",
      "\t\tgrid_mapping: 'crs'\n",
      "\t\tcell_methods: 'time: point'\n",
      "\t\tcomment: 'WMO Code Table 1819'\n",
      "\tName: RRR\n",
      "\t\tdimensions: ('obs',)\n",
      "\t\tsize: 4104797\n",
      "\t\ttype: dtype('int16')\n",
      "\t\t_FillValue: -99\n",
      "\t\tlong_name: 'Precipitation Amount'\n",
      "\t\tvalid_min: 0\n",
      "\t\tvalid_max: 999\n",
      "\t\tcoordinates: 'time lat lon'\n",
      "\t\tgrid_mapping: 'crs'\n",
      "\t\tcell_methods: 'time: point'\n",
      "\t\tcomment: 'WMO Code Table 3590'\n",
      "\tName: TR\n",
      "\t\tdimensions: ('obs',)\n",
      "\t\tsize: 4104797\n",
      "\t\ttype: dtype('int16')\n",
      "\t\t_FillValue: -99\n",
      "\t\tlong_name: 'Duration of Precipitation'\n",
      "\t\tvalid_min: 1\n",
      "\t\tvalid_max: 9\n",
      "\t\tcoordinates: 'time lat lon'\n",
      "\t\tgrid_mapping: 'crs'\n",
      "\t\tcell_methods: 'time: point'\n",
      "\t\tcomment: 'WMO Code Table 4019'\n",
      "\tName: RH\n",
      "\t\tdimensions: ('obs',)\n",
      "\t\tsize: 4104797\n",
      "\t\ttype: dtype('float32')\n",
      "\t\t_FillValue: -9999.0\n",
      "\t\tlong_name: 'Relative Humidity'\n",
      "\t\tvalid_min: 0.0\n",
      "\t\tvalid_max: 100.0\n",
      "\t\tcoordinates: 'time lat lon'\n",
      "\t\tgrid_mapping: 'crs'\n",
      "\t\tcell_methods: 'time: point'\n",
      "\t\tcomment: 'Relative humidity - tenths percentage'\n",
      "\t\tancillary_variables: 'RF'\n",
      "\tName: RHI\n",
      "\t\tdimensions: ('obs',)\n",
      "\t\tsize: 4104797\n",
      "\t\ttype: dtype('int16')\n",
      "\t\t_FillValue: -99\n",
      "\t\tlong_name: 'Relative Humidity Indicator'\n",
      "\t\tvalid_min: 0\n",
      "\t\tvalid_max: 4\n",
      "\t\tcoordinates: 'time lat lon'\n",
      "\t\tgrid_mapping: 'crs'\n",
      "\t\tcell_methods: 'time: point'\n",
      "\t\tcomment: 'Relative humidity originally reported units'\n",
      "\t\tancillary_variables: 'RF'\n",
      "\tName: UID\n",
      "\t\tdimensions: ('obs', 'UID_len')\n",
      "\t\tsize: 24628782\n",
      "\t\ttype: dtype('S1')\n",
      "\t\tlong_name: 'Unique Report ID'\n",
      "\t\tvalid_min: 48.0\n",
      "\t\tvalid_max: 57.0\n",
      "\t\tcoordinates: 'time lat lon'\n",
      "\t\tgrid_mapping: 'crs'\n",
      "\t\tcell_methods: 'time: point'\n",
      "\t\tcomment: 'Unique report ID '\n",
      "\tName: IRF\n",
      "\t\tdimensions: ('obs',)\n",
      "\t\tsize: 4104797\n",
      "\t\ttype: dtype('int16')\n",
      "\t\t_FillValue: -99\n",
      "\t\tlong_name: 'Intermediate Reject Flag'\n",
      "\t\tvalid_min: 0\n",
      "\t\tvalid_max: 1\n",
      "\t\tcoordinates: 'time lat lon'\n",
      "\t\tgrid_mapping: 'crs'\n",
      "\t\tcell_methods: 'time: point'\n",
      "\t\tcomment: 'Intermediate product rejection flag'\n"
     ]
    }
   ],
   "source": [
    "nc_f = r\"\"\"E:\\Hackathon_HackTheBay\\Data\\Water Temperature\\2017\\ICOADS_R3.0.1_2017-01.nc\"\"\"\n",
    "nc_fid = Dataset(nc_f, 'r')  # Dataset is the class behavior to open the file\n",
    "                             # and create an instance of the ncCDF4 class\n",
    "nc_attrs, nc_dims, nc_vars = ncdump(nc_fid)"
   ]
  },
  {
   "cell_type": "code",
   "execution_count": 15,
   "metadata": {},
   "outputs": [
    {
     "data": {
      "text/plain": [
       "dict_keys(['time', 'date', 'crs', 'HR', 'lat', 'lon', 'TI', 'LI', 'DS', 'VS', 'NID', 'II', 'ID', 'DI', 'D', 'WI', 'W', 'VV', 'WW', 'W1', 'SLP', 'A', 'PPP', 'IT', 'AT', 'WBTI', 'WBT', 'DPTI', 'DPT', 'SI', 'SST', 'N', 'NH', 'CL', 'H', 'CM', 'CH', 'WP', 'WH', 'SD', 'SP', 'SH', 'B10', 'B1', 'DCK', 'SID', 'PT', 'DUPS', 'DUPC', 'ND', 'SF', 'AF', 'UF', 'VF', 'PF', 'RF', 'ZNC', 'WNC', 'BNC', 'XNC', 'YNC', 'PNC', 'ANC', 'GNC', 'DNC', 'SNC', 'CNC', 'ENC', 'FNC', 'TNC', 'QCZ', 'IX', 'W2', 'SD2', 'SP2', 'SH2', 'IS', 'ES', 'RS', 'IC1', 'IC2', 'IC3', 'IC4', 'IC5', 'IR', 'RRR', 'TR', 'RH', 'RHI', 'UID', 'IRF'])"
      ]
     },
     "execution_count": 15,
     "metadata": {},
     "output_type": "execute_result"
    }
   ],
   "source": [
    "nc_fid.variables.keys() # I want 'time', 'date', 'lat', 'lon',and 'SST'"
   ]
  },
  {
   "cell_type": "code",
   "execution_count": 16,
   "metadata": {},
   "outputs": [],
   "source": [
    "time_2017_01 = nc_fid.variables['time'][:]"
   ]
  },
  {
   "cell_type": "code",
   "execution_count": 17,
   "metadata": {},
   "outputs": [],
   "source": [
    "date_2017_01 = nc_fid.variables['date'][:]"
   ]
  },
  {
   "cell_type": "code",
   "execution_count": 18,
   "metadata": {},
   "outputs": [
    {
     "name": "stderr",
     "output_type": "stream",
     "text": [
      "<ipython-input-18-06ac91ab2ac6>:1: UserWarning: WARNING: valid_min not used since it\n",
      "cannot be safely cast to variable data type\n",
      "  SST_2017_01 = nc_fid.variables['SST'][:]\n",
      "<ipython-input-18-06ac91ab2ac6>:1: UserWarning: WARNING: valid_max not used since it\n",
      "cannot be safely cast to variable data type\n",
      "  SST_2017_01 = nc_fid.variables['SST'][:]\n"
     ]
    }
   ],
   "source": [
    "SST_2017_01 = nc_fid.variables['SST'][:]"
   ]
  },
  {
   "cell_type": "code",
   "execution_count": 19,
   "metadata": {},
   "outputs": [
    {
     "data": {
      "text/plain": [
       "masked_array(data=[129373.5       , 129373.75      , 129374.25      , ...,\n",
       "                   129404.49916667, 129404.49916667, 129404.49916667],\n",
       "             mask=False,\n",
       "       fill_value=1e+20)"
      ]
     },
     "execution_count": 19,
     "metadata": {},
     "output_type": "execute_result"
    }
   ],
   "source": [
    "time_2017_01"
   ]
  },
  {
   "cell_type": "code",
   "execution_count": 20,
   "metadata": {},
   "outputs": [
    {
     "data": {
      "text/plain": [
       "masked_array(\n",
       "  data=[[b'2', b'0', b'1', ..., b'1', b'9', b'9'],\n",
       "        [b'2', b'0', b'1', ..., b'1', b'9', b'9'],\n",
       "        [b'2', b'0', b'1', ..., b'1', b'9', b'9'],\n",
       "        ...,\n",
       "        [b'2', b'0', b'1', ..., b'1', b'3', b'1'],\n",
       "        [b'2', b'0', b'1', ..., b'1', b'3', b'1'],\n",
       "        [b'2', b'0', b'1', ..., b'1', b'3', b'1']],\n",
       "  mask=False,\n",
       "  fill_value=b'N/A',\n",
       "  dtype='|S1')"
      ]
     },
     "execution_count": 20,
     "metadata": {},
     "output_type": "execute_result"
    }
   ],
   "source": [
    "date_2017_01"
   ]
  },
  {
   "cell_type": "code",
   "execution_count": 21,
   "metadata": {},
   "outputs": [
    {
     "data": {
      "text/plain": [
       "masked_array(data=[--, 7.0, 4.0, ..., 11.899999618530273, --,\n",
       "                   21.200000762939453],\n",
       "             mask=[ True, False, False, ..., False,  True, False],\n",
       "       fill_value=-9999.0,\n",
       "            dtype=float32)"
      ]
     },
     "execution_count": 21,
     "metadata": {},
     "output_type": "execute_result"
    }
   ],
   "source": [
    "SST_2017_01"
   ]
  },
  {
   "cell_type": "code",
   "execution_count": 22,
   "metadata": {},
   "outputs": [
    {
     "data": {
      "text/plain": [
       "<class 'netCDF4._netCDF4.Variable'>\n",
       "float32 SST(obs)\n",
       "    _FillValue: -9999.0\n",
       "    standard_name: sea_surface_temperature\n",
       "    long_name: Sea Surface Temperature  \n",
       "    units: celsius\n",
       "    valid_min: -99.9\n",
       "    valid_max: 99.9\n",
       "    coordinates: time lat lon\n",
       "    grid_mapping: crs\n",
       "    cell_methods: time: point\n",
       "    comment: precision: tenths degree celsius\n",
       "    ancillary_variables: SF SNC\n",
       "unlimited dimensions: \n",
       "current shape = (4104797,)\n",
       "filling on"
      ]
     },
     "execution_count": 22,
     "metadata": {},
     "output_type": "execute_result"
    }
   ],
   "source": [
    "nc_fid.variables['SST']"
   ]
  },
  {
   "cell_type": "code",
   "execution_count": 23,
   "metadata": {},
   "outputs": [
    {
     "data": {
      "text/plain": [
       "<class 'netCDF4._netCDF4.Variable'>\n",
       "float64 time(obs)\n",
       "    long_name: time\n",
       "    standard_name: time\n",
       "    units: days since 1662-10-15 12:00:00\n",
       "    calendar: julian\n",
       "    axis: T\n",
       "    comment: Julian days since the beginning of the ICOADS record, which is 1662-10-15 12:00:00. Missing values of date (DD in date) are replaced by 0 and missing values in HR are filled with 0.0 in this calculation. See actual values in date, HR for reference.\n",
       "unlimited dimensions: \n",
       "current shape = (4104797,)\n",
       "filling on, default _FillValue of 9.969209968386869e+36 used"
      ]
     },
     "execution_count": 23,
     "metadata": {},
     "output_type": "execute_result"
    }
   ],
   "source": [
    "nc_fid.variables['time']"
   ]
  },
  {
   "cell_type": "code",
   "execution_count": 24,
   "metadata": {},
   "outputs": [
    {
     "data": {
      "text/plain": [
       "<class 'netCDF4._netCDF4.Variable'>\n",
       "|S1 date(obs, DATE_len)\n",
       "    long_name: date in YYYYMMDD\n",
       "    format: YYYYMMDD\n",
       "    comment: YYYY: four digital year, MM: two digital month and DD: two digital date. Missing values of DD have been filled with 99.\n",
       "unlimited dimensions: \n",
       "current shape = (4104797, 8)\n",
       "filling on, default _FillValue of \u0000 used"
      ]
     },
     "execution_count": 24,
     "metadata": {},
     "output_type": "execute_result"
    }
   ],
   "source": [
    "nc_fid.variables['date']"
   ]
  },
  {
   "cell_type": "code",
   "execution_count": 25,
   "metadata": {},
   "outputs": [
    {
     "data": {
      "text/plain": [
       "masked_array(data=[--, 7.0, 4.0, ..., 11.899999618530273, --,\n",
       "                   21.200000762939453],\n",
       "             mask=[ True, False, False, ..., False,  True, False],\n",
       "       fill_value=-9999.0,\n",
       "            dtype=float32)"
      ]
     },
     "execution_count": 25,
     "metadata": {},
     "output_type": "execute_result"
    }
   ],
   "source": [
    "SST_2017_01"
   ]
  },
  {
   "cell_type": "code",
   "execution_count": 27,
   "metadata": {},
   "outputs": [],
   "source": [
    "import netCDF4\n",
    "dtime = netCDF4.num2date(time_2017_01[:],nc_fid.variables['time'].units)"
   ]
  },
  {
   "cell_type": "code",
   "execution_count": 28,
   "metadata": {},
   "outputs": [
    {
     "data": {
      "text/plain": [
       "masked_array(data=[cftime.DatetimeGregorian(2017, 1, 1, 0, 0, 0, 0),\n",
       "                   cftime.DatetimeGregorian(2017, 1, 1, 6, 0, 0, 0),\n",
       "                   cftime.DatetimeGregorian(2017, 1, 1, 18, 0, 0, 0), ...,\n",
       "                   cftime.DatetimeGregorian(2017, 1, 31, 23, 58, 47, 999988),\n",
       "                   cftime.DatetimeGregorian(2017, 1, 31, 23, 58, 47, 999988),\n",
       "                   cftime.DatetimeGregorian(2017, 1, 31, 23, 58, 47, 999988)],\n",
       "             mask=False,\n",
       "       fill_value='?',\n",
       "            dtype=object)"
      ]
     },
     "execution_count": 28,
     "metadata": {},
     "output_type": "execute_result"
    }
   ],
   "source": [
    "dtime[:]"
   ]
  },
  {
   "cell_type": "code",
   "execution_count": 29,
   "metadata": {},
   "outputs": [],
   "source": [
    "lat_2017_01 = nc_fid.variables['lat'][:]"
   ]
  },
  {
   "cell_type": "code",
   "execution_count": 30,
   "metadata": {},
   "outputs": [
    {
     "name": "stderr",
     "output_type": "stream",
     "text": [
      "<ipython-input-30-89fda2ba4148>:1: UserWarning: WARNING: valid_max not used since it\n",
      "cannot be safely cast to variable data type\n",
      "  lon_2017_01 = nc_fid.variables['lon'][:]\n"
     ]
    }
   ],
   "source": [
    "lon_2017_01 = nc_fid.variables['lon'][:]"
   ]
  },
  {
   "cell_type": "code",
   "execution_count": 31,
   "metadata": {},
   "outputs": [
    {
     "data": {
      "text/plain": [
       "masked_array(data=[ 55. ,  55. ,  53.9, ...,  34.1,   4. , -35.5],\n",
       "             mask=False,\n",
       "       fill_value=1e+20,\n",
       "            dtype=float32)"
      ]
     },
     "execution_count": 31,
     "metadata": {},
     "output_type": "execute_result"
    }
   ],
   "source": [
    "lat_2017_01"
   ]
  },
  {
   "cell_type": "code",
   "execution_count": 32,
   "metadata": {},
   "outputs": [
    {
     "data": {
      "text/plain": [
       "masked_array(data=[  6.4 ,   6.4 ,   7.9 , ..., 282.3 ,   9.21, 266.81],\n",
       "             mask=False,\n",
       "       fill_value=1e+20,\n",
       "            dtype=float32)"
      ]
     },
     "execution_count": 32,
     "metadata": {},
     "output_type": "execute_result"
    }
   ],
   "source": [
    "lon_2017_01"
   ]
  },
  {
   "cell_type": "code",
   "execution_count": null,
   "metadata": {},
   "outputs": [],
   "source": [
    "# Cheseapeake Bay lat, lon = [37.0608, 76.0626]"
   ]
  },
  {
   "cell_type": "code",
   "execution_count": 33,
   "metadata": {},
   "outputs": [],
   "source": [
    "lat_cheseapeake =  37.0608\n",
    "lon_cheseapeake =  76.0626"
   ]
  },
  {
   "cell_type": "code",
   "execution_count": 34,
   "metadata": {},
   "outputs": [
    {
     "data": {
      "text/plain": [
       "masked_array(data=[ 55. ,  55. ,  53.9, ...,  34.1,   4. , -35.5],\n",
       "             mask=False,\n",
       "       fill_value=1e+20,\n",
       "            dtype=float32)"
      ]
     },
     "execution_count": 34,
     "metadata": {},
     "output_type": "execute_result"
    }
   ],
   "source": [
    "lat_2017_01"
   ]
  },
  {
   "cell_type": "code",
   "execution_count": 35,
   "metadata": {},
   "outputs": [
    {
     "data": {
      "text/plain": [
       "masked_array(data=[  6.4 ,   6.4 ,   7.9 , ..., 282.3 ,   9.21, 266.81],\n",
       "             mask=False,\n",
       "       fill_value=1e+20,\n",
       "            dtype=float32)"
      ]
     },
     "execution_count": 35,
     "metadata": {},
     "output_type": "execute_result"
    }
   ],
   "source": [
    "lon_2017_01"
   ]
  },
  {
   "cell_type": "code",
   "execution_count": 36,
   "metadata": {},
   "outputs": [
    {
     "data": {
      "text/plain": [
       "masked_array(data=[129373.5       , 129373.75      , 129374.25      , ...,\n",
       "                   129404.49916667, 129404.49916667, 129404.49916667],\n",
       "             mask=False,\n",
       "       fill_value=1e+20)"
      ]
     },
     "execution_count": 36,
     "metadata": {},
     "output_type": "execute_result"
    }
   ],
   "source": [
    "time_2017_01"
   ]
  },
  {
   "cell_type": "code",
   "execution_count": 37,
   "metadata": {},
   "outputs": [
    {
     "data": {
      "text/plain": [
       "masked_array(\n",
       "  data=[[b'2', b'0', b'1', ..., b'1', b'9', b'9'],\n",
       "        [b'2', b'0', b'1', ..., b'1', b'9', b'9'],\n",
       "        [b'2', b'0', b'1', ..., b'1', b'9', b'9'],\n",
       "        ...,\n",
       "        [b'2', b'0', b'1', ..., b'1', b'3', b'1'],\n",
       "        [b'2', b'0', b'1', ..., b'1', b'3', b'1'],\n",
       "        [b'2', b'0', b'1', ..., b'1', b'3', b'1']],\n",
       "  mask=False,\n",
       "  fill_value=b'N/A',\n",
       "  dtype='|S1')"
      ]
     },
     "execution_count": 37,
     "metadata": {},
     "output_type": "execute_result"
    }
   ],
   "source": [
    "date_2017_01"
   ]
  },
  {
   "cell_type": "code",
   "execution_count": 38,
   "metadata": {},
   "outputs": [
    {
     "data": {
      "text/plain": [
       "masked_array(data=[--, 7.0, 4.0, ..., 11.899999618530273, --,\n",
       "                   21.200000762939453],\n",
       "             mask=[ True, False, False, ..., False,  True, False],\n",
       "       fill_value=-9999.0,\n",
       "            dtype=float32)"
      ]
     },
     "execution_count": 38,
     "metadata": {},
     "output_type": "execute_result"
    }
   ],
   "source": [
    "SST_2017_01"
   ]
  },
  {
   "cell_type": "code",
   "execution_count": 39,
   "metadata": {},
   "outputs": [],
   "source": [
    "# squared difference of lat and lon\n",
    "\n",
    "sq_dif_lat = (lat_2017_01 - lat_cheseapeake)**2\n",
    "sq_dif_lon = (lon_2017_01 - lon_cheseapeake)**2"
   ]
  },
  {
   "cell_type": "code",
   "execution_count": 40,
   "metadata": {},
   "outputs": [],
   "source": [
    "# identify the minimum value of lat and lon\n",
    "min_sq_dif_lat = sq_dif_lat.argmin()\n",
    "min_sq_dif_lon = sq_dif_lon.argmin()\n"
   ]
  },
  {
   "cell_type": "code",
   "execution_count": 41,
   "metadata": {},
   "outputs": [
    {
     "data": {
      "text/plain": [
       "687"
      ]
     },
     "execution_count": 41,
     "metadata": {},
     "output_type": "execute_result"
    }
   ],
   "source": [
    "min_sq_dif_lat"
   ]
  },
  {
   "cell_type": "code",
   "execution_count": 42,
   "metadata": {},
   "outputs": [
    {
     "data": {
      "text/plain": [
       "2206167"
      ]
     },
     "execution_count": 42,
     "metadata": {},
     "output_type": "execute_result"
    }
   ],
   "source": [
    "min_sq_dif_lon"
   ]
  },
  {
   "cell_type": "code",
   "execution_count": 43,
   "metadata": {},
   "outputs": [
    {
     "data": {
      "text/plain": [
       "37.06"
      ]
     },
     "execution_count": 43,
     "metadata": {},
     "output_type": "execute_result"
    }
   ],
   "source": [
    "lat_2017_01[687]"
   ]
  },
  {
   "cell_type": "code",
   "execution_count": 44,
   "metadata": {},
   "outputs": [
    {
     "data": {
      "text/plain": [
       "76.07"
      ]
     },
     "execution_count": 44,
     "metadata": {},
     "output_type": "execute_result"
    }
   ],
   "source": [
    "lon_2017_01[min_sq_dif_lon]"
   ]
  },
  {
   "cell_type": "code",
   "execution_count": 45,
   "metadata": {},
   "outputs": [
    {
     "data": {
      "text/plain": [
       "2206167"
      ]
     },
     "execution_count": 45,
     "metadata": {},
     "output_type": "execute_result"
    }
   ],
   "source": [
    "min_sq_dif_lon "
   ]
  },
  {
   "cell_type": "code",
   "execution_count": 46,
   "metadata": {},
   "outputs": [
    {
     "data": {
      "text/plain": [
       "6.356422e-07"
      ]
     },
     "execution_count": 46,
     "metadata": {},
     "output_type": "execute_result"
    }
   ],
   "source": [
    "# verify\n",
    "sq_dif_lat[687]"
   ]
  },
  {
   "cell_type": "code",
   "execution_count": 47,
   "metadata": {},
   "outputs": [
    {
     "data": {
      "text/plain": [
       "6.356422e-07"
      ]
     },
     "execution_count": 47,
     "metadata": {},
     "output_type": "execute_result"
    }
   ],
   "source": [
    "sq_dif_lat.min()"
   ]
  },
  {
   "cell_type": "code",
   "execution_count": 48,
   "metadata": {},
   "outputs": [
    {
     "data": {
      "text/plain": [
       "masked_array(data=[--, 7.0, 4.0, ..., 11.899999618530273, --,\n",
       "                   21.200000762939453],\n",
       "             mask=[ True, False, False, ..., False,  True, False],\n",
       "       fill_value=-9999.0,\n",
       "            dtype=float32)"
      ]
     },
     "execution_count": 48,
     "metadata": {},
     "output_type": "execute_result"
    }
   ],
   "source": [
    "SST_2017_01"
   ]
  },
  {
   "cell_type": "code",
   "execution_count": 49,
   "metadata": {},
   "outputs": [],
   "source": [
    "water_temp = nc_fid.variables['SST']"
   ]
  },
  {
   "cell_type": "code",
   "execution_count": 50,
   "metadata": {},
   "outputs": [
    {
     "data": {
      "text/plain": [
       "<class 'netCDF4._netCDF4.Variable'>\n",
       "float32 SST(obs)\n",
       "    _FillValue: -9999.0\n",
       "    standard_name: sea_surface_temperature\n",
       "    long_name: Sea Surface Temperature  \n",
       "    units: celsius\n",
       "    valid_min: -99.9\n",
       "    valid_max: 99.9\n",
       "    coordinates: time lat lon\n",
       "    grid_mapping: crs\n",
       "    cell_methods: time: point\n",
       "    comment: precision: tenths degree celsius\n",
       "    ancillary_variables: SF SNC\n",
       "unlimited dimensions: \n",
       "current shape = (4104797,)\n",
       "filling on"
      ]
     },
     "execution_count": 50,
     "metadata": {},
     "output_type": "execute_result"
    }
   ],
   "source": [
    "water_temp"
   ]
  },
  {
   "cell_type": "code",
   "execution_count": null,
   "metadata": {},
   "outputs": [],
   "source": [
    "water_temp[0:]"
   ]
  },
  {
   "cell_type": "code",
   "execution_count": 51,
   "metadata": {},
   "outputs": [
    {
     "data": {
      "text/plain": [
       "687"
      ]
     },
     "execution_count": 51,
     "metadata": {},
     "output_type": "execute_result"
    }
   ],
   "source": [
    "min_sq_dif_lat"
   ]
  },
  {
   "cell_type": "code",
   "execution_count": 52,
   "metadata": {},
   "outputs": [
    {
     "data": {
      "text/plain": [
       "2206167"
      ]
     },
     "execution_count": 52,
     "metadata": {},
     "output_type": "execute_result"
    }
   ],
   "source": [
    "min_sq_dif_lon"
   ]
  },
  {
   "cell_type": "code",
   "execution_count": 53,
   "metadata": {},
   "outputs": [
    {
     "data": {
      "text/plain": [
       "<class 'netCDF4._netCDF4.Variable'>\n",
       "float64 time(obs)\n",
       "    long_name: time\n",
       "    standard_name: time\n",
       "    units: days since 1662-10-15 12:00:00\n",
       "    calendar: julian\n",
       "    axis: T\n",
       "    comment: Julian days since the beginning of the ICOADS record, which is 1662-10-15 12:00:00. Missing values of date (DD in date) are replaced by 0 and missing values in HR are filled with 0.0 in this calculation. See actual values in date, HR for reference.\n",
       "unlimited dimensions: \n",
       "current shape = (4104797,)\n",
       "filling on, default _FillValue of 9.969209968386869e+36 used"
      ]
     },
     "execution_count": 53,
     "metadata": {},
     "output_type": "execute_result"
    }
   ],
   "source": [
    "nc_fid.variables['time']"
   ]
  },
  {
   "cell_type": "code",
   "execution_count": 54,
   "metadata": {},
   "outputs": [
    {
     "data": {
      "text/plain": [
       "<class 'netCDF4._netCDF4.Variable'>\n",
       "|S1 date(obs, DATE_len)\n",
       "    long_name: date in YYYYMMDD\n",
       "    format: YYYYMMDD\n",
       "    comment: YYYY: four digital year, MM: two digital month and DD: two digital date. Missing values of DD have been filled with 99.\n",
       "unlimited dimensions: \n",
       "current shape = (4104797, 8)\n",
       "filling on, default _FillValue of \u0000 used"
      ]
     },
     "execution_count": 54,
     "metadata": {},
     "output_type": "execute_result"
    }
   ],
   "source": [
    "nc_fid.variables['date']"
   ]
  },
  {
   "cell_type": "code",
   "execution_count": 55,
   "metadata": {},
   "outputs": [
    {
     "data": {
      "text/plain": [
       "32838376"
      ]
     },
     "execution_count": 55,
     "metadata": {},
     "output_type": "execute_result"
    }
   ],
   "source": [
    "nc_fid.variables['date'].size"
   ]
  },
  {
   "cell_type": "code",
   "execution_count": 56,
   "metadata": {},
   "outputs": [
    {
     "data": {
      "text/plain": [
       "masked_array(data=[cftime.DatetimeGregorian(2017, 1, 1, 0, 0, 0, 0),\n",
       "                   cftime.DatetimeGregorian(2017, 1, 1, 6, 0, 0, 0),\n",
       "                   cftime.DatetimeGregorian(2017, 1, 1, 18, 0, 0, 0), ...,\n",
       "                   cftime.DatetimeGregorian(2017, 1, 31, 23, 58, 47, 999988),\n",
       "                   cftime.DatetimeGregorian(2017, 1, 31, 23, 58, 47, 999988),\n",
       "                   cftime.DatetimeGregorian(2017, 1, 31, 23, 58, 47, 999988)],\n",
       "             mask=False,\n",
       "       fill_value='?',\n",
       "            dtype=object)"
      ]
     },
     "execution_count": 56,
     "metadata": {},
     "output_type": "execute_result"
    }
   ],
   "source": [
    "dtime"
   ]
  },
  {
   "cell_type": "code",
   "execution_count": 57,
   "metadata": {},
   "outputs": [
    {
     "data": {
      "text/plain": [
       "4104797"
      ]
     },
     "execution_count": 57,
     "metadata": {},
     "output_type": "execute_result"
    }
   ],
   "source": [
    "dtime.size"
   ]
  },
  {
   "cell_type": "code",
   "execution_count": 58,
   "metadata": {},
   "outputs": [
    {
     "data": {
      "text/plain": [
       "masked_array(data=[cftime.DatetimeGregorian(2017, 1, 1, 0, 0, 0, 0),\n",
       "                   cftime.DatetimeGregorian(2017, 1, 1, 6, 0, 0, 0),\n",
       "                   cftime.DatetimeGregorian(2017, 1, 1, 18, 0, 0, 0), ...,\n",
       "                   cftime.DatetimeGregorian(2017, 1, 31, 23, 58, 47, 999988),\n",
       "                   cftime.DatetimeGregorian(2017, 1, 31, 23, 58, 47, 999988),\n",
       "                   cftime.DatetimeGregorian(2017, 1, 31, 23, 58, 47, 999988)],\n",
       "             mask=False,\n",
       "       fill_value='?',\n",
       "            dtype=object)"
      ]
     },
     "execution_count": 58,
     "metadata": {},
     "output_type": "execute_result"
    }
   ],
   "source": [
    "dtime[:]"
   ]
  },
  {
   "cell_type": "code",
   "execution_count": 59,
   "metadata": {},
   "outputs": [],
   "source": [
    "x = np.ma.array(dtime[:])"
   ]
  },
  {
   "cell_type": "code",
   "execution_count": 60,
   "metadata": {},
   "outputs": [],
   "source": [
    "dtime_2017_01 = x.filled() # save the masked array to an numpy array"
   ]
  },
  {
   "cell_type": "code",
   "execution_count": 61,
   "metadata": {},
   "outputs": [
    {
     "data": {
      "text/plain": [
       "4104797"
      ]
     },
     "execution_count": 61,
     "metadata": {},
     "output_type": "execute_result"
    }
   ],
   "source": [
    "dtime_2017_01.size"
   ]
  },
  {
   "cell_type": "code",
   "execution_count": 62,
   "metadata": {},
   "outputs": [
    {
     "data": {
      "text/plain": [
       "4104797"
      ]
     },
     "execution_count": 62,
     "metadata": {},
     "output_type": "execute_result"
    }
   ],
   "source": [
    "len(dtime_2017_01)"
   ]
  },
  {
   "cell_type": "code",
   "execution_count": 63,
   "metadata": {},
   "outputs": [
    {
     "data": {
      "text/plain": [
       "'2017-01-01 00:00:00'"
      ]
     },
     "execution_count": 63,
     "metadata": {},
     "output_type": "execute_result"
    }
   ],
   "source": [
    "str(dtime_2017_01[0])"
   ]
  },
  {
   "cell_type": "code",
   "execution_count": 64,
   "metadata": {},
   "outputs": [
    {
     "data": {
      "text/plain": [
       "'2017-01'"
      ]
     },
     "execution_count": 64,
     "metadata": {},
     "output_type": "execute_result"
    }
   ],
   "source": [
    "str(dtime_2017_01[0])[:7] # This is the time variable we want"
   ]
  },
  {
   "cell_type": "code",
   "execution_count": null,
   "metadata": {},
   "outputs": [],
   "source": [
    "starting_date = str(dtime_2017_01[0])[:10]\n",
    "ending_date = str(dtime_2017_01[0])[:7] + '-31'"
   ]
  },
  {
   "cell_type": "code",
   "execution_count": null,
   "metadata": {},
   "outputs": [],
   "source": [
    "starting_date"
   ]
  },
  {
   "cell_type": "code",
   "execution_count": null,
   "metadata": {},
   "outputs": [],
   "source": [
    "ending_date"
   ]
  },
  {
   "cell_type": "code",
   "execution_count": null,
   "metadata": {},
   "outputs": [],
   "source": [
    "date_range = pd.date_range(start=starting_date, end=ending_date)"
   ]
  },
  {
   "cell_type": "code",
   "execution_count": null,
   "metadata": {},
   "outputs": [],
   "source": [
    "date_range"
   ]
  },
  {
   "cell_type": "code",
   "execution_count": 65,
   "metadata": {},
   "outputs": [],
   "source": [
    "# create a variable as dtime in pandas datetime format\n",
    "\n",
    "pd_dtime = []\n",
    "\n",
    "for i in range(len(dtime_2017_01)):\n",
    "    pd_dtime.append(str(dtime_2017_01[i]))\n"
   ]
  },
  {
   "cell_type": "code",
   "execution_count": 66,
   "metadata": {},
   "outputs": [
    {
     "data": {
      "text/plain": [
       "4104797"
      ]
     },
     "execution_count": 66,
     "metadata": {},
     "output_type": "execute_result"
    }
   ],
   "source": [
    "len(pd_dtime)"
   ]
  },
  {
   "cell_type": "code",
   "execution_count": 67,
   "metadata": {},
   "outputs": [],
   "source": [
    "# create a water temperature dataframe\n",
    "\n",
    "water_temp_2017_01 = pd.DataFrame(0, columns = ['Water Temperature'], index = pd_dtime)\n"
   ]
  },
  {
   "cell_type": "code",
   "execution_count": 68,
   "metadata": {},
   "outputs": [
    {
     "data": {
      "text/html": [
       "<div>\n",
       "<style scoped>\n",
       "    .dataframe tbody tr th:only-of-type {\n",
       "        vertical-align: middle;\n",
       "    }\n",
       "\n",
       "    .dataframe tbody tr th {\n",
       "        vertical-align: top;\n",
       "    }\n",
       "\n",
       "    .dataframe thead th {\n",
       "        text-align: right;\n",
       "    }\n",
       "</style>\n",
       "<table border=\"1\" class=\"dataframe\">\n",
       "  <thead>\n",
       "    <tr style=\"text-align: right;\">\n",
       "      <th></th>\n",
       "      <th>Water Temperature</th>\n",
       "    </tr>\n",
       "  </thead>\n",
       "  <tbody>\n",
       "    <tr>\n",
       "      <th>2017-01-01 00:00:00</th>\n",
       "      <td>0</td>\n",
       "    </tr>\n",
       "    <tr>\n",
       "      <th>2017-01-01 06:00:00</th>\n",
       "      <td>0</td>\n",
       "    </tr>\n",
       "    <tr>\n",
       "      <th>2017-01-01 18:00:00</th>\n",
       "      <td>0</td>\n",
       "    </tr>\n",
       "    <tr>\n",
       "      <th>2017-01-01 00:00:00</th>\n",
       "      <td>0</td>\n",
       "    </tr>\n",
       "    <tr>\n",
       "      <th>2017-01-01 00:00:00</th>\n",
       "      <td>0</td>\n",
       "    </tr>\n",
       "    <tr>\n",
       "      <th>...</th>\n",
       "      <td>...</td>\n",
       "    </tr>\n",
       "    <tr>\n",
       "      <th>2017-01-31 23:58:12.000022</th>\n",
       "      <td>0</td>\n",
       "    </tr>\n",
       "    <tr>\n",
       "      <th>2017-01-31 23:58:12.000022</th>\n",
       "      <td>0</td>\n",
       "    </tr>\n",
       "    <tr>\n",
       "      <th>2017-01-31 23:58:47.999988</th>\n",
       "      <td>0</td>\n",
       "    </tr>\n",
       "    <tr>\n",
       "      <th>2017-01-31 23:58:47.999988</th>\n",
       "      <td>0</td>\n",
       "    </tr>\n",
       "    <tr>\n",
       "      <th>2017-01-31 23:58:47.999988</th>\n",
       "      <td>0</td>\n",
       "    </tr>\n",
       "  </tbody>\n",
       "</table>\n",
       "<p>4104797 rows × 1 columns</p>\n",
       "</div>"
      ],
      "text/plain": [
       "                            Water Temperature\n",
       "2017-01-01 00:00:00                         0\n",
       "2017-01-01 06:00:00                         0\n",
       "2017-01-01 18:00:00                         0\n",
       "2017-01-01 00:00:00                         0\n",
       "2017-01-01 00:00:00                         0\n",
       "...                                       ...\n",
       "2017-01-31 23:58:12.000022                  0\n",
       "2017-01-31 23:58:12.000022                  0\n",
       "2017-01-31 23:58:47.999988                  0\n",
       "2017-01-31 23:58:47.999988                  0\n",
       "2017-01-31 23:58:47.999988                  0\n",
       "\n",
       "[4104797 rows x 1 columns]"
      ]
     },
     "execution_count": 68,
     "metadata": {},
     "output_type": "execute_result"
    }
   ],
   "source": [
    "water_temp_2017_01"
   ]
  },
  {
   "cell_type": "code",
   "execution_count": 69,
   "metadata": {},
   "outputs": [
    {
     "data": {
      "text/plain": [
       "Index(['2017-01-01 00:00:00', '2017-01-01 06:00:00', '2017-01-01 18:00:00',\n",
       "       '2017-01-01 00:00:00', '2017-01-01 00:00:00', '2017-01-01 00:00:00',\n",
       "       '2017-01-01 00:00:00', '2017-01-01 00:00:00', '2017-01-01 00:00:00',\n",
       "       '2017-01-01 00:00:00',\n",
       "       ...\n",
       "       '2017-01-31 23:57:00.000010', '2017-01-31 23:57:00.000010',\n",
       "       '2017-01-31 23:58:12.000022', '2017-01-31 23:58:12.000022',\n",
       "       '2017-01-31 23:58:12.000022', '2017-01-31 23:58:12.000022',\n",
       "       '2017-01-31 23:58:12.000022', '2017-01-31 23:58:47.999988',\n",
       "       '2017-01-31 23:58:47.999988', '2017-01-31 23:58:47.999988'],\n",
       "      dtype='object', length=4104797)"
      ]
     },
     "execution_count": 69,
     "metadata": {},
     "output_type": "execute_result"
    }
   ],
   "source": [
    "water_temp_2017_01.index"
   ]
  },
  {
   "cell_type": "code",
   "execution_count": 70,
   "metadata": {},
   "outputs": [],
   "source": [
    "water_temp_2017_01.reset_index(inplace=True)"
   ]
  },
  {
   "cell_type": "code",
   "execution_count": 71,
   "metadata": {},
   "outputs": [
    {
     "data": {
      "text/html": [
       "<div>\n",
       "<style scoped>\n",
       "    .dataframe tbody tr th:only-of-type {\n",
       "        vertical-align: middle;\n",
       "    }\n",
       "\n",
       "    .dataframe tbody tr th {\n",
       "        vertical-align: top;\n",
       "    }\n",
       "\n",
       "    .dataframe thead th {\n",
       "        text-align: right;\n",
       "    }\n",
       "</style>\n",
       "<table border=\"1\" class=\"dataframe\">\n",
       "  <thead>\n",
       "    <tr style=\"text-align: right;\">\n",
       "      <th></th>\n",
       "      <th>index</th>\n",
       "      <th>Water Temperature</th>\n",
       "    </tr>\n",
       "  </thead>\n",
       "  <tbody>\n",
       "    <tr>\n",
       "      <th>0</th>\n",
       "      <td>2017-01-01 00:00:00</td>\n",
       "      <td>0</td>\n",
       "    </tr>\n",
       "    <tr>\n",
       "      <th>1</th>\n",
       "      <td>2017-01-01 06:00:00</td>\n",
       "      <td>0</td>\n",
       "    </tr>\n",
       "    <tr>\n",
       "      <th>2</th>\n",
       "      <td>2017-01-01 18:00:00</td>\n",
       "      <td>0</td>\n",
       "    </tr>\n",
       "    <tr>\n",
       "      <th>3</th>\n",
       "      <td>2017-01-01 00:00:00</td>\n",
       "      <td>0</td>\n",
       "    </tr>\n",
       "    <tr>\n",
       "      <th>4</th>\n",
       "      <td>2017-01-01 00:00:00</td>\n",
       "      <td>0</td>\n",
       "    </tr>\n",
       "  </tbody>\n",
       "</table>\n",
       "</div>"
      ],
      "text/plain": [
       "                 index  Water Temperature\n",
       "0  2017-01-01 00:00:00                  0\n",
       "1  2017-01-01 06:00:00                  0\n",
       "2  2017-01-01 18:00:00                  0\n",
       "3  2017-01-01 00:00:00                  0\n",
       "4  2017-01-01 00:00:00                  0"
      ]
     },
     "execution_count": 71,
     "metadata": {},
     "output_type": "execute_result"
    }
   ],
   "source": [
    "water_temp_2017_01.head()"
   ]
  },
  {
   "cell_type": "code",
   "execution_count": 72,
   "metadata": {},
   "outputs": [],
   "source": [
    "water_temp_2017_01.columns = ['time', 'Water Temperature']"
   ]
  },
  {
   "cell_type": "code",
   "execution_count": 73,
   "metadata": {},
   "outputs": [
    {
     "data": {
      "text/html": [
       "<div>\n",
       "<style scoped>\n",
       "    .dataframe tbody tr th:only-of-type {\n",
       "        vertical-align: middle;\n",
       "    }\n",
       "\n",
       "    .dataframe tbody tr th {\n",
       "        vertical-align: top;\n",
       "    }\n",
       "\n",
       "    .dataframe thead th {\n",
       "        text-align: right;\n",
       "    }\n",
       "</style>\n",
       "<table border=\"1\" class=\"dataframe\">\n",
       "  <thead>\n",
       "    <tr style=\"text-align: right;\">\n",
       "      <th></th>\n",
       "      <th>time</th>\n",
       "      <th>Water Temperature</th>\n",
       "    </tr>\n",
       "  </thead>\n",
       "  <tbody>\n",
       "    <tr>\n",
       "      <th>0</th>\n",
       "      <td>2017-01-01 00:00:00</td>\n",
       "      <td>0</td>\n",
       "    </tr>\n",
       "    <tr>\n",
       "      <th>1</th>\n",
       "      <td>2017-01-01 06:00:00</td>\n",
       "      <td>0</td>\n",
       "    </tr>\n",
       "    <tr>\n",
       "      <th>2</th>\n",
       "      <td>2017-01-01 18:00:00</td>\n",
       "      <td>0</td>\n",
       "    </tr>\n",
       "    <tr>\n",
       "      <th>3</th>\n",
       "      <td>2017-01-01 00:00:00</td>\n",
       "      <td>0</td>\n",
       "    </tr>\n",
       "    <tr>\n",
       "      <th>4</th>\n",
       "      <td>2017-01-01 00:00:00</td>\n",
       "      <td>0</td>\n",
       "    </tr>\n",
       "  </tbody>\n",
       "</table>\n",
       "</div>"
      ],
      "text/plain": [
       "                  time  Water Temperature\n",
       "0  2017-01-01 00:00:00                  0\n",
       "1  2017-01-01 06:00:00                  0\n",
       "2  2017-01-01 18:00:00                  0\n",
       "3  2017-01-01 00:00:00                  0\n",
       "4  2017-01-01 00:00:00                  0"
      ]
     },
     "execution_count": 73,
     "metadata": {},
     "output_type": "execute_result"
    }
   ],
   "source": [
    "water_temp_2017_01.head()"
   ]
  },
  {
   "cell_type": "code",
   "execution_count": 74,
   "metadata": {},
   "outputs": [
    {
     "data": {
      "text/html": [
       "<div>\n",
       "<style scoped>\n",
       "    .dataframe tbody tr th:only-of-type {\n",
       "        vertical-align: middle;\n",
       "    }\n",
       "\n",
       "    .dataframe tbody tr th {\n",
       "        vertical-align: top;\n",
       "    }\n",
       "\n",
       "    .dataframe thead th {\n",
       "        text-align: right;\n",
       "    }\n",
       "</style>\n",
       "<table border=\"1\" class=\"dataframe\">\n",
       "  <thead>\n",
       "    <tr style=\"text-align: right;\">\n",
       "      <th></th>\n",
       "      <th>time</th>\n",
       "      <th>Water Temperature</th>\n",
       "    </tr>\n",
       "  </thead>\n",
       "  <tbody>\n",
       "    <tr>\n",
       "      <th>4104792</th>\n",
       "      <td>2017-01-31 23:58:12.000022</td>\n",
       "      <td>0</td>\n",
       "    </tr>\n",
       "    <tr>\n",
       "      <th>4104793</th>\n",
       "      <td>2017-01-31 23:58:12.000022</td>\n",
       "      <td>0</td>\n",
       "    </tr>\n",
       "    <tr>\n",
       "      <th>4104794</th>\n",
       "      <td>2017-01-31 23:58:47.999988</td>\n",
       "      <td>0</td>\n",
       "    </tr>\n",
       "    <tr>\n",
       "      <th>4104795</th>\n",
       "      <td>2017-01-31 23:58:47.999988</td>\n",
       "      <td>0</td>\n",
       "    </tr>\n",
       "    <tr>\n",
       "      <th>4104796</th>\n",
       "      <td>2017-01-31 23:58:47.999988</td>\n",
       "      <td>0</td>\n",
       "    </tr>\n",
       "  </tbody>\n",
       "</table>\n",
       "</div>"
      ],
      "text/plain": [
       "                               time  Water Temperature\n",
       "4104792  2017-01-31 23:58:12.000022                  0\n",
       "4104793  2017-01-31 23:58:12.000022                  0\n",
       "4104794  2017-01-31 23:58:47.999988                  0\n",
       "4104795  2017-01-31 23:58:47.999988                  0\n",
       "4104796  2017-01-31 23:58:47.999988                  0"
      ]
     },
     "execution_count": 74,
     "metadata": {},
     "output_type": "execute_result"
    }
   ],
   "source": [
    "water_temp_2017_01.tail()"
   ]
  },
  {
   "cell_type": "code",
   "execution_count": 75,
   "metadata": {},
   "outputs": [
    {
     "data": {
      "text/plain": [
       "RangeIndex(start=0, stop=4104797, step=1)"
      ]
     },
     "execution_count": 75,
     "metadata": {},
     "output_type": "execute_result"
    }
   ],
   "source": [
    "water_temp_2017_01.index"
   ]
  },
  {
   "cell_type": "code",
   "execution_count": 76,
   "metadata": {},
   "outputs": [
    {
     "data": {
      "text/plain": [
       "0"
      ]
     },
     "execution_count": 76,
     "metadata": {},
     "output_type": "execute_result"
    }
   ],
   "source": [
    "water_temp_2017_01.iloc[0,1]"
   ]
  },
  {
   "cell_type": "code",
   "execution_count": 77,
   "metadata": {},
   "outputs": [
    {
     "data": {
      "text/plain": [
       "0"
      ]
     },
     "execution_count": 77,
     "metadata": {},
     "output_type": "execute_result"
    }
   ],
   "source": [
    "water_temp_2017_01['Water Temperature'][0]"
   ]
  },
  {
   "cell_type": "code",
   "execution_count": 78,
   "metadata": {},
   "outputs": [
    {
     "name": "stderr",
     "output_type": "stream",
     "text": [
      "<ipython-input-78-7ceddedae0e7>:1: UserWarning: WARNING: valid_min not used since it\n",
      "cannot be safely cast to variable data type\n",
      "  water_temp[:]\n",
      "<ipython-input-78-7ceddedae0e7>:1: UserWarning: WARNING: valid_max not used since it\n",
      "cannot be safely cast to variable data type\n",
      "  water_temp[:]\n"
     ]
    },
    {
     "data": {
      "text/plain": [
       "masked_array(data=[--, 7.0, 4.0, ..., 11.899999618530273, --,\n",
       "                   21.200000762939453],\n",
       "             mask=[ True, False, False, ..., False,  True, False],\n",
       "       fill_value=-9999.0,\n",
       "            dtype=float32)"
      ]
     },
     "execution_count": 78,
     "metadata": {},
     "output_type": "execute_result"
    }
   ],
   "source": [
    "water_temp[:]"
   ]
  },
  {
   "cell_type": "code",
   "execution_count": 81,
   "metadata": {},
   "outputs": [
    {
     "name": "stderr",
     "output_type": "stream",
     "text": [
      "<ipython-input-81-c26788b89965>:1: UserWarning: WARNING: valid_min not used since it\n",
      "cannot be safely cast to variable data type\n",
      "  np.ma.array(water_temp[1:687:2206167]).filled().tolist()\n",
      "<ipython-input-81-c26788b89965>:1: UserWarning: WARNING: valid_max not used since it\n",
      "cannot be safely cast to variable data type\n",
      "  np.ma.array(water_temp[1:687:2206167]).filled().tolist()\n"
     ]
    },
    {
     "data": {
      "text/plain": [
       "[7.0]"
      ]
     },
     "execution_count": 81,
     "metadata": {},
     "output_type": "execute_result"
    }
   ],
   "source": [
    "\n",
    "np.ma.array(water_temp[1:687:2206167]).filled().tolist()"
   ]
  },
  {
   "cell_type": "code",
   "execution_count": 96,
   "metadata": {},
   "outputs": [
    {
     "name": "stderr",
     "output_type": "stream",
     "text": [
      "<ipython-input-96-09f85d533893>:4: UserWarning: WARNING: valid_min not used since it\n",
      "cannot be safely cast to variable data type\n",
      "  pd_water_temp.append(str(np.ma.array(water_temp[i:687:2206167]).filled()).strip('\\]\\['))\n",
      "<ipython-input-96-09f85d533893>:4: UserWarning: WARNING: valid_max not used since it\n",
      "cannot be safely cast to variable data type\n",
      "  pd_water_temp.append(str(np.ma.array(water_temp[i:687:2206167]).filled()).strip('\\]\\['))\n"
     ]
    }
   ],
   "source": [
    "pd_water_temp = []\n",
    "\n",
    "for i in range(0, 4104797):\n",
    "    pd_water_temp.append(str(np.ma.array(water_temp[i:687:2206167]).filled()).strip('\\]\\['))"
   ]
  },
  {
   "cell_type": "code",
   "execution_count": 97,
   "metadata": {},
   "outputs": [
    {
     "data": {
      "text/plain": [
       "4104797"
      ]
     },
     "execution_count": 97,
     "metadata": {},
     "output_type": "execute_result"
    }
   ],
   "source": [
    "len(water_temp)"
   ]
  },
  {
   "cell_type": "code",
   "execution_count": 98,
   "metadata": {},
   "outputs": [
    {
     "data": {
      "text/plain": [
       "4104797"
      ]
     },
     "execution_count": 98,
     "metadata": {},
     "output_type": "execute_result"
    }
   ],
   "source": [
    "len(pd_water_temp)"
   ]
  },
  {
   "cell_type": "code",
   "execution_count": 92,
   "metadata": {},
   "outputs": [
    {
     "data": {
      "text/plain": [
       "Index(['time', 'Water Temperature'], dtype='object')"
      ]
     },
     "execution_count": 92,
     "metadata": {},
     "output_type": "execute_result"
    }
   ],
   "source": [
    "water_temp_2017_01.columns"
   ]
  },
  {
   "cell_type": "code",
   "execution_count": 99,
   "metadata": {},
   "outputs": [
    {
     "data": {
      "text/plain": [
       "4104797"
      ]
     },
     "execution_count": 99,
     "metadata": {},
     "output_type": "execute_result"
    }
   ],
   "source": [
    "len(pd_water_temp)"
   ]
  },
  {
   "cell_type": "code",
   "execution_count": 100,
   "metadata": {},
   "outputs": [
    {
     "data": {
      "text/plain": [
       "4104797"
      ]
     },
     "execution_count": 100,
     "metadata": {},
     "output_type": "execute_result"
    }
   ],
   "source": [
    "len(water_temp_2017_01)"
   ]
  },
  {
   "cell_type": "code",
   "execution_count": 101,
   "metadata": {},
   "outputs": [],
   "source": [
    "water_temp_2017_01['Water Temperature celsius'] = pd_water_temp"
   ]
  },
  {
   "cell_type": "code",
   "execution_count": 102,
   "metadata": {},
   "outputs": [
    {
     "data": {
      "text/html": [
       "<div>\n",
       "<style scoped>\n",
       "    .dataframe tbody tr th:only-of-type {\n",
       "        vertical-align: middle;\n",
       "    }\n",
       "\n",
       "    .dataframe tbody tr th {\n",
       "        vertical-align: top;\n",
       "    }\n",
       "\n",
       "    .dataframe thead th {\n",
       "        text-align: right;\n",
       "    }\n",
       "</style>\n",
       "<table border=\"1\" class=\"dataframe\">\n",
       "  <thead>\n",
       "    <tr style=\"text-align: right;\">\n",
       "      <th></th>\n",
       "      <th>time</th>\n",
       "      <th>Water Temperature</th>\n",
       "      <th>Water Temperature celsius</th>\n",
       "    </tr>\n",
       "  </thead>\n",
       "  <tbody>\n",
       "    <tr>\n",
       "      <th>0</th>\n",
       "      <td>2017-01-01 00:00:00</td>\n",
       "      <td>0</td>\n",
       "      <td>-9999.</td>\n",
       "    </tr>\n",
       "    <tr>\n",
       "      <th>1</th>\n",
       "      <td>2017-01-01 06:00:00</td>\n",
       "      <td>0</td>\n",
       "      <td>7.</td>\n",
       "    </tr>\n",
       "    <tr>\n",
       "      <th>2</th>\n",
       "      <td>2017-01-01 18:00:00</td>\n",
       "      <td>0</td>\n",
       "      <td>4.</td>\n",
       "    </tr>\n",
       "    <tr>\n",
       "      <th>3</th>\n",
       "      <td>2017-01-01 00:00:00</td>\n",
       "      <td>0</td>\n",
       "      <td>-4.6</td>\n",
       "    </tr>\n",
       "    <tr>\n",
       "      <th>4</th>\n",
       "      <td>2017-01-01 00:00:00</td>\n",
       "      <td>0</td>\n",
       "      <td>-8.5</td>\n",
       "    </tr>\n",
       "  </tbody>\n",
       "</table>\n",
       "</div>"
      ],
      "text/plain": [
       "                  time  Water Temperature Water Temperature celsius\n",
       "0  2017-01-01 00:00:00                  0                    -9999.\n",
       "1  2017-01-01 06:00:00                  0                        7.\n",
       "2  2017-01-01 18:00:00                  0                        4.\n",
       "3  2017-01-01 00:00:00                  0                      -4.6\n",
       "4  2017-01-01 00:00:00                  0                      -8.5"
      ]
     },
     "execution_count": 102,
     "metadata": {},
     "output_type": "execute_result"
    }
   ],
   "source": [
    "water_temp_2017_01.head()"
   ]
  },
  {
   "cell_type": "code",
   "execution_count": 105,
   "metadata": {},
   "outputs": [
    {
     "data": {
      "text/html": [
       "<div>\n",
       "<style scoped>\n",
       "    .dataframe tbody tr th:only-of-type {\n",
       "        vertical-align: middle;\n",
       "    }\n",
       "\n",
       "    .dataframe tbody tr th {\n",
       "        vertical-align: top;\n",
       "    }\n",
       "\n",
       "    .dataframe thead th {\n",
       "        text-align: right;\n",
       "    }\n",
       "</style>\n",
       "<table border=\"1\" class=\"dataframe\">\n",
       "  <thead>\n",
       "    <tr style=\"text-align: right;\">\n",
       "      <th></th>\n",
       "      <th>time</th>\n",
       "      <th>Water Temperature</th>\n",
       "      <th>Water Temperature celsius</th>\n",
       "    </tr>\n",
       "  </thead>\n",
       "  <tbody>\n",
       "    <tr>\n",
       "      <th>4104777</th>\n",
       "      <td>2017-01-31 23:54:00.000022</td>\n",
       "      <td>0</td>\n",
       "      <td></td>\n",
       "    </tr>\n",
       "    <tr>\n",
       "      <th>4104778</th>\n",
       "      <td>2017-01-31 23:54:00.000022</td>\n",
       "      <td>0</td>\n",
       "      <td></td>\n",
       "    </tr>\n",
       "    <tr>\n",
       "      <th>4104779</th>\n",
       "      <td>2017-01-31 23:54:00.000022</td>\n",
       "      <td>0</td>\n",
       "      <td></td>\n",
       "    </tr>\n",
       "    <tr>\n",
       "      <th>4104780</th>\n",
       "      <td>2017-01-31 23:54:00.000022</td>\n",
       "      <td>0</td>\n",
       "      <td></td>\n",
       "    </tr>\n",
       "    <tr>\n",
       "      <th>4104781</th>\n",
       "      <td>2017-01-31 23:55:11.999994</td>\n",
       "      <td>0</td>\n",
       "      <td></td>\n",
       "    </tr>\n",
       "    <tr>\n",
       "      <th>4104782</th>\n",
       "      <td>2017-01-31 23:55:11.999994</td>\n",
       "      <td>0</td>\n",
       "      <td></td>\n",
       "    </tr>\n",
       "    <tr>\n",
       "      <th>4104783</th>\n",
       "      <td>2017-01-31 23:55:11.999994</td>\n",
       "      <td>0</td>\n",
       "      <td></td>\n",
       "    </tr>\n",
       "    <tr>\n",
       "      <th>4104784</th>\n",
       "      <td>2017-01-31 23:55:11.999994</td>\n",
       "      <td>0</td>\n",
       "      <td></td>\n",
       "    </tr>\n",
       "    <tr>\n",
       "      <th>4104785</th>\n",
       "      <td>2017-01-31 23:55:11.999994</td>\n",
       "      <td>0</td>\n",
       "      <td></td>\n",
       "    </tr>\n",
       "    <tr>\n",
       "      <th>4104786</th>\n",
       "      <td>2017-01-31 23:55:47.999998</td>\n",
       "      <td>0</td>\n",
       "      <td></td>\n",
       "    </tr>\n",
       "    <tr>\n",
       "      <th>4104787</th>\n",
       "      <td>2017-01-31 23:57:00.000010</td>\n",
       "      <td>0</td>\n",
       "      <td></td>\n",
       "    </tr>\n",
       "    <tr>\n",
       "      <th>4104788</th>\n",
       "      <td>2017-01-31 23:57:00.000010</td>\n",
       "      <td>0</td>\n",
       "      <td></td>\n",
       "    </tr>\n",
       "    <tr>\n",
       "      <th>4104789</th>\n",
       "      <td>2017-01-31 23:58:12.000022</td>\n",
       "      <td>0</td>\n",
       "      <td></td>\n",
       "    </tr>\n",
       "    <tr>\n",
       "      <th>4104790</th>\n",
       "      <td>2017-01-31 23:58:12.000022</td>\n",
       "      <td>0</td>\n",
       "      <td></td>\n",
       "    </tr>\n",
       "    <tr>\n",
       "      <th>4104791</th>\n",
       "      <td>2017-01-31 23:58:12.000022</td>\n",
       "      <td>0</td>\n",
       "      <td></td>\n",
       "    </tr>\n",
       "    <tr>\n",
       "      <th>4104792</th>\n",
       "      <td>2017-01-31 23:58:12.000022</td>\n",
       "      <td>0</td>\n",
       "      <td></td>\n",
       "    </tr>\n",
       "    <tr>\n",
       "      <th>4104793</th>\n",
       "      <td>2017-01-31 23:58:12.000022</td>\n",
       "      <td>0</td>\n",
       "      <td></td>\n",
       "    </tr>\n",
       "    <tr>\n",
       "      <th>4104794</th>\n",
       "      <td>2017-01-31 23:58:47.999988</td>\n",
       "      <td>0</td>\n",
       "      <td></td>\n",
       "    </tr>\n",
       "    <tr>\n",
       "      <th>4104795</th>\n",
       "      <td>2017-01-31 23:58:47.999988</td>\n",
       "      <td>0</td>\n",
       "      <td></td>\n",
       "    </tr>\n",
       "    <tr>\n",
       "      <th>4104796</th>\n",
       "      <td>2017-01-31 23:58:47.999988</td>\n",
       "      <td>0</td>\n",
       "      <td></td>\n",
       "    </tr>\n",
       "  </tbody>\n",
       "</table>\n",
       "</div>"
      ],
      "text/plain": [
       "                               time  Water Temperature  \\\n",
       "4104777  2017-01-31 23:54:00.000022                  0   \n",
       "4104778  2017-01-31 23:54:00.000022                  0   \n",
       "4104779  2017-01-31 23:54:00.000022                  0   \n",
       "4104780  2017-01-31 23:54:00.000022                  0   \n",
       "4104781  2017-01-31 23:55:11.999994                  0   \n",
       "4104782  2017-01-31 23:55:11.999994                  0   \n",
       "4104783  2017-01-31 23:55:11.999994                  0   \n",
       "4104784  2017-01-31 23:55:11.999994                  0   \n",
       "4104785  2017-01-31 23:55:11.999994                  0   \n",
       "4104786  2017-01-31 23:55:47.999998                  0   \n",
       "4104787  2017-01-31 23:57:00.000010                  0   \n",
       "4104788  2017-01-31 23:57:00.000010                  0   \n",
       "4104789  2017-01-31 23:58:12.000022                  0   \n",
       "4104790  2017-01-31 23:58:12.000022                  0   \n",
       "4104791  2017-01-31 23:58:12.000022                  0   \n",
       "4104792  2017-01-31 23:58:12.000022                  0   \n",
       "4104793  2017-01-31 23:58:12.000022                  0   \n",
       "4104794  2017-01-31 23:58:47.999988                  0   \n",
       "4104795  2017-01-31 23:58:47.999988                  0   \n",
       "4104796  2017-01-31 23:58:47.999988                  0   \n",
       "\n",
       "        Water Temperature celsius  \n",
       "4104777                            \n",
       "4104778                            \n",
       "4104779                            \n",
       "4104780                            \n",
       "4104781                            \n",
       "4104782                            \n",
       "4104783                            \n",
       "4104784                            \n",
       "4104785                            \n",
       "4104786                            \n",
       "4104787                            \n",
       "4104788                            \n",
       "4104789                            \n",
       "4104790                            \n",
       "4104791                            \n",
       "4104792                            \n",
       "4104793                            \n",
       "4104794                            \n",
       "4104795                            \n",
       "4104796                            "
      ]
     },
     "execution_count": 105,
     "metadata": {},
     "output_type": "execute_result"
    }
   ],
   "source": [
    "water_temp_2017_01.tail(20)"
   ]
  },
  {
   "cell_type": "code",
   "execution_count": 109,
   "metadata": {},
   "outputs": [
    {
     "data": {
      "text/html": [
       "<div>\n",
       "<style scoped>\n",
       "    .dataframe tbody tr th:only-of-type {\n",
       "        vertical-align: middle;\n",
       "    }\n",
       "\n",
       "    .dataframe tbody tr th {\n",
       "        vertical-align: top;\n",
       "    }\n",
       "\n",
       "    .dataframe thead th {\n",
       "        text-align: right;\n",
       "    }\n",
       "</style>\n",
       "<table border=\"1\" class=\"dataframe\">\n",
       "  <thead>\n",
       "    <tr style=\"text-align: right;\">\n",
       "      <th></th>\n",
       "      <th>time</th>\n",
       "      <th>Water Temperature</th>\n",
       "      <th>Water Temperature celsius</th>\n",
       "    </tr>\n",
       "  </thead>\n",
       "  <tbody>\n",
       "    <tr>\n",
       "      <th>4104792</th>\n",
       "      <td>2017-01-31 23:58:12.000022</td>\n",
       "      <td>0</td>\n",
       "      <td></td>\n",
       "    </tr>\n",
       "    <tr>\n",
       "      <th>4104793</th>\n",
       "      <td>2017-01-31 23:58:12.000022</td>\n",
       "      <td>0</td>\n",
       "      <td></td>\n",
       "    </tr>\n",
       "    <tr>\n",
       "      <th>4104794</th>\n",
       "      <td>2017-01-31 23:58:47.999988</td>\n",
       "      <td>0</td>\n",
       "      <td></td>\n",
       "    </tr>\n",
       "    <tr>\n",
       "      <th>4104795</th>\n",
       "      <td>2017-01-31 23:58:47.999988</td>\n",
       "      <td>0</td>\n",
       "      <td></td>\n",
       "    </tr>\n",
       "    <tr>\n",
       "      <th>4104796</th>\n",
       "      <td>2017-01-31 23:58:47.999988</td>\n",
       "      <td>0</td>\n",
       "      <td></td>\n",
       "    </tr>\n",
       "  </tbody>\n",
       "</table>\n",
       "</div>"
      ],
      "text/plain": [
       "                               time  Water Temperature  \\\n",
       "4104792  2017-01-31 23:58:12.000022                  0   \n",
       "4104793  2017-01-31 23:58:12.000022                  0   \n",
       "4104794  2017-01-31 23:58:47.999988                  0   \n",
       "4104795  2017-01-31 23:58:47.999988                  0   \n",
       "4104796  2017-01-31 23:58:47.999988                  0   \n",
       "\n",
       "        Water Temperature celsius  \n",
       "4104792                            \n",
       "4104793                            \n",
       "4104794                            \n",
       "4104795                            \n",
       "4104796                            "
      ]
     },
     "execution_count": 109,
     "metadata": {},
     "output_type": "execute_result"
    }
   ],
   "source": [
    "water_temp_2017_01.tail()"
   ]
  },
  {
   "cell_type": "code",
   "execution_count": 110,
   "metadata": {},
   "outputs": [],
   "source": [
    "del water_temp_2017_01['Water Temperature celsius']"
   ]
  },
  {
   "cell_type": "code",
   "execution_count": 116,
   "metadata": {},
   "outputs": [],
   "source": [
    "pd_water_temp_df = pd.DataFrame({'Water Temperature celsius':pd_water_temp})"
   ]
  },
  {
   "cell_type": "code",
   "execution_count": 117,
   "metadata": {},
   "outputs": [
    {
     "name": "stdout",
     "output_type": "stream",
     "text": [
      "<class 'pandas.core.frame.DataFrame'>\n",
      "RangeIndex: 4104797 entries, 0 to 4104796\n",
      "Data columns (total 1 columns):\n",
      " #   Column                     Dtype \n",
      "---  ------                     ----- \n",
      " 0   Water Temperature celsius  object\n",
      "dtypes: object(1)\n",
      "memory usage: 31.3+ MB\n"
     ]
    }
   ],
   "source": [
    "pd_water_temp_df.info()"
   ]
  },
  {
   "cell_type": "code",
   "execution_count": 127,
   "metadata": {},
   "outputs": [],
   "source": [
    "# convert temp to float\n",
    "\n",
    "pd_water_temp_df['Water Temperature celsius'][pd_water_temp_df['Water Temperature celsius'].apply(lambda x: x == '-9999.')]= np.nan"
   ]
  },
  {
   "cell_type": "code",
   "execution_count": 128,
   "metadata": {},
   "outputs": [],
   "source": [
    "pd_water_temp_df['Water Temperature celsius'][pd_water_temp_df['Water Temperature celsius'].apply(lambda x: x == '')]= np.nan"
   ]
  },
  {
   "cell_type": "code",
   "execution_count": 130,
   "metadata": {},
   "outputs": [],
   "source": [
    "pd_water_temp_df['Water Temperature celsius'] = pd_water_temp_df['Water Temperature celsius'].apply(lambda x: float(x))"
   ]
  },
  {
   "cell_type": "code",
   "execution_count": 132,
   "metadata": {},
   "outputs": [],
   "source": [
    "# concatenate two dataframes\n",
    "\n",
    "water_temp_2017_01_all = pd.concat([water_temp_2017_01, pd_water_temp_df], axis = 1)"
   ]
  },
  {
   "cell_type": "code",
   "execution_count": 133,
   "metadata": {},
   "outputs": [],
   "source": [
    "del water_temp_2017_01_all['Water Temperature']"
   ]
  },
  {
   "cell_type": "code",
   "execution_count": 134,
   "metadata": {},
   "outputs": [
    {
     "name": "stdout",
     "output_type": "stream",
     "text": [
      "<class 'pandas.core.frame.DataFrame'>\n",
      "RangeIndex: 4104797 entries, 0 to 4104796\n",
      "Data columns (total 2 columns):\n",
      " #   Column                     Dtype  \n",
      "---  ------                     -----  \n",
      " 0   time                       object \n",
      " 1   Water Temperature celsius  float64\n",
      "dtypes: float64(1), object(1)\n",
      "memory usage: 62.6+ MB\n"
     ]
    }
   ],
   "source": [
    "water_temp_2017_01_all.info()"
   ]
  },
  {
   "cell_type": "code",
   "execution_count": 138,
   "metadata": {},
   "outputs": [],
   "source": [
    "water_temp_2017_01_drop_na = water_temp_2017_01_all[water_temp_2017_01_all['Water Temperature celsius'].notna()]"
   ]
  },
  {
   "cell_type": "code",
   "execution_count": 139,
   "metadata": {},
   "outputs": [],
   "source": [
    "water_temp_2017_01_drop_na.reset_index(inplace=True, drop=True)"
   ]
  },
  {
   "cell_type": "code",
   "execution_count": 140,
   "metadata": {},
   "outputs": [
    {
     "data": {
      "text/html": [
       "<div>\n",
       "<style scoped>\n",
       "    .dataframe tbody tr th:only-of-type {\n",
       "        vertical-align: middle;\n",
       "    }\n",
       "\n",
       "    .dataframe tbody tr th {\n",
       "        vertical-align: top;\n",
       "    }\n",
       "\n",
       "    .dataframe thead th {\n",
       "        text-align: right;\n",
       "    }\n",
       "</style>\n",
       "<table border=\"1\" class=\"dataframe\">\n",
       "  <thead>\n",
       "    <tr style=\"text-align: right;\">\n",
       "      <th></th>\n",
       "      <th>time</th>\n",
       "      <th>Water Temperature celsius</th>\n",
       "    </tr>\n",
       "  </thead>\n",
       "  <tbody>\n",
       "    <tr>\n",
       "      <th>0</th>\n",
       "      <td>2017-01-01 06:00:00</td>\n",
       "      <td>7.0</td>\n",
       "    </tr>\n",
       "    <tr>\n",
       "      <th>1</th>\n",
       "      <td>2017-01-01 18:00:00</td>\n",
       "      <td>4.0</td>\n",
       "    </tr>\n",
       "    <tr>\n",
       "      <th>2</th>\n",
       "      <td>2017-01-01 00:00:00</td>\n",
       "      <td>-4.6</td>\n",
       "    </tr>\n",
       "    <tr>\n",
       "      <th>3</th>\n",
       "      <td>2017-01-01 00:00:00</td>\n",
       "      <td>-8.5</td>\n",
       "    </tr>\n",
       "    <tr>\n",
       "      <th>4</th>\n",
       "      <td>2017-01-01 00:00:00</td>\n",
       "      <td>-7.0</td>\n",
       "    </tr>\n",
       "  </tbody>\n",
       "</table>\n",
       "</div>"
      ],
      "text/plain": [
       "                  time  Water Temperature celsius\n",
       "0  2017-01-01 06:00:00                        7.0\n",
       "1  2017-01-01 18:00:00                        4.0\n",
       "2  2017-01-01 00:00:00                       -4.6\n",
       "3  2017-01-01 00:00:00                       -8.5\n",
       "4  2017-01-01 00:00:00                       -7.0"
      ]
     },
     "execution_count": 140,
     "metadata": {},
     "output_type": "execute_result"
    }
   ],
   "source": [
    "water_temp_2017_01_drop_na.head()"
   ]
  },
  {
   "cell_type": "code",
   "execution_count": 142,
   "metadata": {},
   "outputs": [
    {
     "name": "stdout",
     "output_type": "stream",
     "text": [
      "<class 'pandas.core.frame.DataFrame'>\n",
      "RangeIndex: 302 entries, 0 to 301\n",
      "Data columns (total 2 columns):\n",
      " #   Column                     Non-Null Count  Dtype  \n",
      "---  ------                     --------------  -----  \n",
      " 0   time                       302 non-null    object \n",
      " 1   Water Temperature celsius  302 non-null    float64\n",
      "dtypes: float64(1), object(1)\n",
      "memory usage: 4.8+ KB\n"
     ]
    }
   ],
   "source": [
    "water_temp_2017_01_drop_na.info()"
   ]
  },
  {
   "cell_type": "code",
   "execution_count": 144,
   "metadata": {},
   "outputs": [
    {
     "name": "stderr",
     "output_type": "stream",
     "text": [
      "<ipython-input-144-d474041661fb>:1: SettingWithCopyWarning: \n",
      "A value is trying to be set on a copy of a slice from a DataFrame.\n",
      "Try using .loc[row_indexer,col_indexer] = value instead\n",
      "\n",
      "See the caveats in the documentation: https://pandas.pydata.org/pandas-docs/stable/user_guide/indexing.html#returning-a-view-versus-a-copy\n",
      "  water_temp_2017_01_drop_na['Water Temperature celsius 2'] = water_temp_2017_01_drop_na['Water Temperature celsius'].apply(lambda x: int(x))\n"
     ]
    }
   ],
   "source": [
    "water_temp_2017_01_drop_na['Water Temperature celsius 2'] = water_temp_2017_01_drop_na['Water Temperature celsius'].apply(lambda x: int(x))"
   ]
  },
  {
   "cell_type": "code",
   "execution_count": 145,
   "metadata": {},
   "outputs": [
    {
     "name": "stdout",
     "output_type": "stream",
     "text": [
      "<class 'pandas.core.frame.DataFrame'>\n",
      "RangeIndex: 302 entries, 0 to 301\n",
      "Data columns (total 3 columns):\n",
      " #   Column                       Non-Null Count  Dtype  \n",
      "---  ------                       --------------  -----  \n",
      " 0   time                         302 non-null    object \n",
      " 1   Water Temperature celsius    302 non-null    float64\n",
      " 2   Water Temperature celsius 2  302 non-null    int64  \n",
      "dtypes: float64(1), int64(1), object(1)\n",
      "memory usage: 7.2+ KB\n"
     ]
    }
   ],
   "source": [
    "water_temp_2017_01_drop_na.info()"
   ]
  },
  {
   "cell_type": "code",
   "execution_count": 156,
   "metadata": {},
   "outputs": [],
   "source": [
    "del water_temp_2017_01_drop_na['Water Temperature celsius 2']"
   ]
  },
  {
   "cell_type": "code",
   "execution_count": 210,
   "metadata": {},
   "outputs": [
    {
     "name": "stdout",
     "output_type": "stream",
     "text": [
      "E:\\Hackathon_HackTheBay\\Data\\Water Temperature\\Cheseapeake Bay 2017\n"
     ]
    }
   ],
   "source": [
    "cd \"E:\\Hackathon_HackTheBay\\Data\\Water Temperature\\Cheseapeake Bay 2017\""
   ]
  },
  {
   "cell_type": "code",
   "execution_count": 212,
   "metadata": {},
   "outputs": [],
   "source": [
    "water_temp_2017_01_drop_na.to_excel(\"International_Comprehensive_Ocean_Atmosphere_Data_Set_ICOADS_2017_01.xlsx\", index = False, engine = 'xlsxwriter')"
   ]
  },
  {
   "cell_type": "code",
   "execution_count": 157,
   "metadata": {},
   "outputs": [
    {
     "data": {
      "text/plain": [
       "<matplotlib.axes._subplots.AxesSubplot at 0x1ed2ea2e070>"
      ]
     },
     "execution_count": 157,
     "metadata": {},
     "output_type": "execute_result"
    },
    {
     "data": {
      "image/png": "[encoded data removed]",
      "text/plain": [
       "<Figure size 432x288 with 1 Axes>"
      ]
     },
     "metadata": {},
     "output_type": "display_data"
    }
   ],
   "source": [
    "water_temp_2017_01_drop_na.plot()"
   ]
  },
  {
   "cell_type": "code",
   "execution_count": null,
   "metadata": {},
   "outputs": [],
   "source": []
  },
  {
   "cell_type": "code",
   "execution_count": null,
   "metadata": {},
   "outputs": [],
   "source": []
  },
  {
   "cell_type": "code",
   "execution_count": 107,
   "metadata": {},
   "outputs": [
    {
     "data": {
      "text/plain": [
       "687"
      ]
     },
     "execution_count": 107,
     "metadata": {},
     "output_type": "execute_result"
    }
   ],
   "source": [
    "water_temp_2017_01['Water Temperature celsius'].apply(lambda x: x != '').sum()"
   ]
  },
  {
   "cell_type": "code",
   "execution_count": 108,
   "metadata": {},
   "outputs": [
    {
     "data": {
      "text/html": [
       "<div>\n",
       "<style scoped>\n",
       "    .dataframe tbody tr th:only-of-type {\n",
       "        vertical-align: middle;\n",
       "    }\n",
       "\n",
       "    .dataframe tbody tr th {\n",
       "        vertical-align: top;\n",
       "    }\n",
       "\n",
       "    .dataframe thead th {\n",
       "        text-align: right;\n",
       "    }\n",
       "</style>\n",
       "<table border=\"1\" class=\"dataframe\">\n",
       "  <thead>\n",
       "    <tr style=\"text-align: right;\">\n",
       "      <th></th>\n",
       "      <th>time</th>\n",
       "      <th>Water Temperature</th>\n",
       "      <th>Water Temperature celsius</th>\n",
       "    </tr>\n",
       "  </thead>\n",
       "  <tbody>\n",
       "    <tr>\n",
       "      <th>0</th>\n",
       "      <td>2017-01-01 00:00:00</td>\n",
       "      <td>0</td>\n",
       "      <td>-9999.</td>\n",
       "    </tr>\n",
       "    <tr>\n",
       "      <th>1</th>\n",
       "      <td>2017-01-01 06:00:00</td>\n",
       "      <td>0</td>\n",
       "      <td>7.</td>\n",
       "    </tr>\n",
       "    <tr>\n",
       "      <th>2</th>\n",
       "      <td>2017-01-01 18:00:00</td>\n",
       "      <td>0</td>\n",
       "      <td>4.</td>\n",
       "    </tr>\n",
       "    <tr>\n",
       "      <th>3</th>\n",
       "      <td>2017-01-01 00:00:00</td>\n",
       "      <td>0</td>\n",
       "      <td>-4.6</td>\n",
       "    </tr>\n",
       "    <tr>\n",
       "      <th>4</th>\n",
       "      <td>2017-01-01 00:00:00</td>\n",
       "      <td>0</td>\n",
       "      <td>-8.5</td>\n",
       "    </tr>\n",
       "    <tr>\n",
       "      <th>...</th>\n",
       "      <td>...</td>\n",
       "      <td>...</td>\n",
       "      <td>...</td>\n",
       "    </tr>\n",
       "    <tr>\n",
       "      <th>682</th>\n",
       "      <td>2017-01-01 00:00:00</td>\n",
       "      <td>0</td>\n",
       "      <td>17.</td>\n",
       "    </tr>\n",
       "    <tr>\n",
       "      <th>683</th>\n",
       "      <td>2017-01-01 00:00:00</td>\n",
       "      <td>0</td>\n",
       "      <td>7.4</td>\n",
       "    </tr>\n",
       "    <tr>\n",
       "      <th>684</th>\n",
       "      <td>2017-01-01 00:00:00</td>\n",
       "      <td>0</td>\n",
       "      <td>7.</td>\n",
       "    </tr>\n",
       "    <tr>\n",
       "      <th>685</th>\n",
       "      <td>2017-01-01 00:00:00</td>\n",
       "      <td>0</td>\n",
       "      <td>7.9</td>\n",
       "    </tr>\n",
       "    <tr>\n",
       "      <th>686</th>\n",
       "      <td>2017-01-01 00:00:00</td>\n",
       "      <td>0</td>\n",
       "      <td>15.9</td>\n",
       "    </tr>\n",
       "  </tbody>\n",
       "</table>\n",
       "<p>687 rows × 3 columns</p>\n",
       "</div>"
      ],
      "text/plain": [
       "                    time  Water Temperature Water Temperature celsius\n",
       "0    2017-01-01 00:00:00                  0                    -9999.\n",
       "1    2017-01-01 06:00:00                  0                        7.\n",
       "2    2017-01-01 18:00:00                  0                        4.\n",
       "3    2017-01-01 00:00:00                  0                      -4.6\n",
       "4    2017-01-01 00:00:00                  0                      -8.5\n",
       "..                   ...                ...                       ...\n",
       "682  2017-01-01 00:00:00                  0                       17.\n",
       "683  2017-01-01 00:00:00                  0                       7.4\n",
       "684  2017-01-01 00:00:00                  0                        7.\n",
       "685  2017-01-01 00:00:00                  0                       7.9\n",
       "686  2017-01-01 00:00:00                  0                      15.9\n",
       "\n",
       "[687 rows x 3 columns]"
      ]
     },
     "execution_count": 108,
     "metadata": {},
     "output_type": "execute_result"
    }
   ],
   "source": [
    "water_temp_2017_01[water_temp_2017_01['Water Temperature celsius'].apply(lambda x: x != '')]"
   ]
  },
  {
   "cell_type": "code",
   "execution_count": null,
   "metadata": {},
   "outputs": [],
   "source": [
    "water_temp_2017_01.tail()"
   ]
  },
  {
   "cell_type": "code",
   "execution_count": null,
   "metadata": {},
   "outputs": [],
   "source": [
    "water_temp[0:687:2206167]"
   ]
  },
  {
   "cell_type": "code",
   "execution_count": null,
   "metadata": {},
   "outputs": [],
   "source": [
    "# create a water temp variable\n",
    "pd_water_temp = []\n",
    "\n",
    "for i in range(len(dt)):\n",
    "    pd_water_temp.append(np.ma.array(water_temp[i:687:2206167]).filled())\n"
   ]
  },
  {
   "cell_type": "code",
   "execution_count": null,
   "metadata": {},
   "outputs": [],
   "source": [
    "water_temp_2017_01.iloc[5,1]"
   ]
  },
  {
   "cell_type": "code",
   "execution_count": null,
   "metadata": {},
   "outputs": [],
   "source": [
    "# time index\n",
    "dt = np.arange(0, nc_fid.variables['time'].size)\n",
    "\n",
    "for time_index in dt:\n",
    "    water_temp_2017_01.iloc[time_index,1] = np.ma.array(water_temp[time_index:687:2206167]).filled()"
   ]
  },
  {
   "cell_type": "code",
   "execution_count": null,
   "metadata": {},
   "outputs": [],
   "source": [
    "time_2017_01"
   ]
  },
  {
   "cell_type": "code",
   "execution_count": null,
   "metadata": {},
   "outputs": [],
   "source": [
    "netCDF4.num2date(time_2017_01[:],time_2017_01.units)"
   ]
  },
  {
   "cell_type": "code",
   "execution_count": null,
   "metadata": {},
   "outputs": [],
   "source": [
    "time_2017_01"
   ]
  },
  {
   "cell_type": "code",
   "execution_count": null,
   "metadata": {},
   "outputs": [],
   "source": [
    "netCDF4.num2date(time_2017_01[1], nc_fid.variables['time'].units)"
   ]
  },
  {
   "cell_type": "code",
   "execution_count": null,
   "metadata": {},
   "outputs": [],
   "source": [
    "netCDF4.num2date(time_2017_01[401], nc_fid.variables['time'].units)"
   ]
  },
  {
   "cell_type": "code",
   "execution_count": null,
   "metadata": {},
   "outputs": [],
   "source": [
    "np.ma.array(water_temp[0:687:2206167]).filled()"
   ]
  },
  {
   "cell_type": "code",
   "execution_count": null,
   "metadata": {},
   "outputs": [],
   "source": [
    "print(water_temp[600:687:2206167], water_temp.units) # time from 1 to 401"
   ]
  },
  {
   "cell_type": "code",
   "execution_count": 164,
   "metadata": {},
   "outputs": [
    {
     "name": "stdout",
     "output_type": "stream",
     "text": [
      "E:\\Hackathon_HackTheBay\\Data\\Water Temperature\\chbv2h2017.txt\n"
     ]
    }
   ],
   "source": [
    "cd \"E:\\Hackathon_HackTheBay\\Data\\Water Temperature\\chbv2h2017.txt\""
   ]
  },
  {
   "cell_type": "code",
   "execution_count": 189,
   "metadata": {},
   "outputs": [],
   "source": [
    "wt_2017_df = pd.read_csv(\"chbv2h2017.txt\")"
   ]
  },
  {
   "cell_type": "code",
   "execution_count": 190,
   "metadata": {},
   "outputs": [
    {
     "name": "stdout",
     "output_type": "stream",
     "text": [
      "E:\\Hackathon_HackTheBay\\Data\\Water Temperature\\chbv2h2018.txt\n"
     ]
    }
   ],
   "source": [
    "cd \"E:\\Hackathon_HackTheBay\\Data\\Water Temperature\\chbv2h2018.txt\""
   ]
  },
  {
   "cell_type": "code",
   "execution_count": 191,
   "metadata": {},
   "outputs": [],
   "source": [
    "wt_2018_df = pd.read_csv(\"chbv2h2018.txt\")"
   ]
  },
  {
   "cell_type": "code",
   "execution_count": 192,
   "metadata": {},
   "outputs": [
    {
     "name": "stdout",
     "output_type": "stream",
     "text": [
      "E:\\Hackathon_HackTheBay\\Data\\Water Temperature\\chbv2h2019.txt\n"
     ]
    }
   ],
   "source": [
    "cd \"E:\\Hackathon_HackTheBay\\Data\\Water Temperature\\chbv2h2019.txt\""
   ]
  },
  {
   "cell_type": "code",
   "execution_count": 193,
   "metadata": {},
   "outputs": [],
   "source": [
    "wt_2019_df = pd.read_csv(\"chbv2h2019.txt\")"
   ]
  },
  {
   "cell_type": "code",
   "execution_count": 194,
   "metadata": {},
   "outputs": [
    {
     "name": "stdout",
     "output_type": "stream",
     "text": [
      "E:\\Hackathon_HackTheBay\\Data\\Water Temperature\\chbv212020.txt\n"
     ]
    }
   ],
   "source": [
    "cd \"E:\\Hackathon_HackTheBay\\Data\\Water Temperature\\chbv212020.txt\""
   ]
  },
  {
   "cell_type": "code",
   "execution_count": 195,
   "metadata": {},
   "outputs": [],
   "source": [
    "wt_2020_Jan_df = pd.read_csv(\"chbv212020.txt\")"
   ]
  },
  {
   "cell_type": "code",
   "execution_count": 196,
   "metadata": {},
   "outputs": [
    {
     "name": "stdout",
     "output_type": "stream",
     "text": [
      "E:\\Hackathon_HackTheBay\\Data\\Water Temperature\\chbv222020.txt\n"
     ]
    }
   ],
   "source": [
    "cd \"E:\\Hackathon_HackTheBay\\Data\\Water Temperature\\chbv222020.txt\""
   ]
  },
  {
   "cell_type": "code",
   "execution_count": 197,
   "metadata": {},
   "outputs": [],
   "source": [
    "wt_2020_Feb_df = pd.read_csv(\"chbv222020.txt\")"
   ]
  },
  {
   "cell_type": "code",
   "execution_count": 198,
   "metadata": {},
   "outputs": [
    {
     "name": "stdout",
     "output_type": "stream",
     "text": [
      "E:\\Hackathon_HackTheBay\\Data\\Water Temperature\\chbv232020.txt\n"
     ]
    }
   ],
   "source": [
    "cd \"E:\\Hackathon_HackTheBay\\Data\\Water Temperature\\chbv232020.txt\""
   ]
  },
  {
   "cell_type": "code",
   "execution_count": 199,
   "metadata": {},
   "outputs": [],
   "source": [
    "wt_2020_Mar_df = pd.read_csv(\"chbv232020.txt\")"
   ]
  },
  {
   "cell_type": "code",
   "execution_count": 200,
   "metadata": {},
   "outputs": [
    {
     "name": "stdout",
     "output_type": "stream",
     "text": [
      "E:\\Hackathon_HackTheBay\\Data\\Water Temperature\\chbv242020.txt\n"
     ]
    }
   ],
   "source": [
    "cd \"E:\\Hackathon_HackTheBay\\Data\\Water Temperature\\chbv242020.txt\""
   ]
  },
  {
   "cell_type": "code",
   "execution_count": 201,
   "metadata": {},
   "outputs": [],
   "source": [
    "wt_2020_Apr_df = pd.read_csv(\"chbv242020.txt\")"
   ]
  },
  {
   "cell_type": "code",
   "execution_count": 202,
   "metadata": {},
   "outputs": [
    {
     "name": "stdout",
     "output_type": "stream",
     "text": [
      "E:\\Hackathon_HackTheBay\\Data\\Water Temperature\\chbv252020.txt\n"
     ]
    }
   ],
   "source": [
    "cd \"E:\\Hackathon_HackTheBay\\Data\\Water Temperature\\chbv252020.txt\""
   ]
  },
  {
   "cell_type": "code",
   "execution_count": 203,
   "metadata": {},
   "outputs": [],
   "source": [
    "wt_2020_May_df = pd.read_csv(\"chbv252020.txt\")"
   ]
  },
  {
   "cell_type": "code",
   "execution_count": 204,
   "metadata": {},
   "outputs": [
    {
     "name": "stdout",
     "output_type": "stream",
     "text": [
      "E:\\Hackathon_HackTheBay\\Data\\Water Temperature\\chbv262020.txt\n"
     ]
    }
   ],
   "source": [
    "cd \"E:\\Hackathon_HackTheBay\\Data\\Water Temperature\\chbv262020.txt\""
   ]
  },
  {
   "cell_type": "code",
   "execution_count": 205,
   "metadata": {},
   "outputs": [],
   "source": [
    "wt_2020_Jun_df = pd.read_csv(\"chbv262020.txt\")"
   ]
  },
  {
   "cell_type": "code",
   "execution_count": 206,
   "metadata": {},
   "outputs": [
    {
     "name": "stdout",
     "output_type": "stream",
     "text": [
      "E:\\Hackathon_HackTheBay\\Data\\Water Temperature\\2020\\July\n"
     ]
    }
   ],
   "source": [
    "cd \"E:\\Hackathon_HackTheBay\\Data\\Water Temperature\\2020\\July\""
   ]
  },
  {
   "cell_type": "code",
   "execution_count": 207,
   "metadata": {},
   "outputs": [],
   "source": [
    "wt_2020_July_df = pd.read_csv(\"chbv2.txt\")"
   ]
  },
  {
   "cell_type": "code",
   "execution_count": 208,
   "metadata": {},
   "outputs": [
    {
     "data": {
      "text/html": [
       "<div>\n",
       "<style scoped>\n",
       "    .dataframe tbody tr th:only-of-type {\n",
       "        vertical-align: middle;\n",
       "    }\n",
       "\n",
       "    .dataframe tbody tr th {\n",
       "        vertical-align: top;\n",
       "    }\n",
       "\n",
       "    .dataframe thead th {\n",
       "        text-align: right;\n",
       "    }\n",
       "</style>\n",
       "<table border=\"1\" class=\"dataframe\">\n",
       "  <thead>\n",
       "    <tr style=\"text-align: right;\">\n",
       "      <th></th>\n",
       "      <th>#YY  MM DD hh mm WDIR WSPD GST  WVHT   DPD   APD MWD   PRES  ATMP  WTMP  DEWP  VIS  TIDE</th>\n",
       "    </tr>\n",
       "  </thead>\n",
       "  <tbody>\n",
       "    <tr>\n",
       "      <th>0</th>\n",
       "      <td>#yr  mo dy hr mn degT m/s  m/s     m   sec   s...</td>\n",
       "    </tr>\n",
       "    <tr>\n",
       "      <th>1</th>\n",
       "      <td>2017 10 02 14 48  70  4.1  5.8 99.00 99.00 99....</td>\n",
       "    </tr>\n",
       "    <tr>\n",
       "      <th>2</th>\n",
       "      <td>2017 10 02 14 54  57  5.3  6.3 99.00 99.00 99....</td>\n",
       "    </tr>\n",
       "    <tr>\n",
       "      <th>3</th>\n",
       "      <td>2017 10 02 15 00  64  4.9  6.5 99.00 99.00 99....</td>\n",
       "    </tr>\n",
       "    <tr>\n",
       "      <th>4</th>\n",
       "      <td>2017 10 02 15 06  61  5.1  6.2 99.00 99.00 99....</td>\n",
       "    </tr>\n",
       "    <tr>\n",
       "      <th>...</th>\n",
       "      <td>...</td>\n",
       "    </tr>\n",
       "    <tr>\n",
       "      <th>6644</th>\n",
       "      <td>2020 07 31 23 30 102  3.6  4.5 99.00 99.00 99....</td>\n",
       "    </tr>\n",
       "    <tr>\n",
       "      <th>6645</th>\n",
       "      <td>2020 07 31 23 36 113  3.5  4.2 99.00 99.00 99....</td>\n",
       "    </tr>\n",
       "    <tr>\n",
       "      <th>6646</th>\n",
       "      <td>2020 07 31 23 42 100  3.1  3.7 99.00 99.00 99....</td>\n",
       "    </tr>\n",
       "    <tr>\n",
       "      <th>6647</th>\n",
       "      <td>2020 07 31 23 48 114  3.9  4.6 99.00 99.00 99....</td>\n",
       "    </tr>\n",
       "    <tr>\n",
       "      <th>6648</th>\n",
       "      <td>2020 07 31 23 54 128  5.7  6.7 99.00 99.00 99....</td>\n",
       "    </tr>\n",
       "  </tbody>\n",
       "</table>\n",
       "<p>243269 rows × 1 columns</p>\n",
       "</div>"
      ],
      "text/plain": [
       "     #YY  MM DD hh mm WDIR WSPD GST  WVHT   DPD   APD MWD   PRES  ATMP  WTMP  DEWP  VIS  TIDE\n",
       "0     #yr  mo dy hr mn degT m/s  m/s     m   sec   s...                                      \n",
       "1     2017 10 02 14 48  70  4.1  5.8 99.00 99.00 99....                                      \n",
       "2     2017 10 02 14 54  57  5.3  6.3 99.00 99.00 99....                                      \n",
       "3     2017 10 02 15 00  64  4.9  6.5 99.00 99.00 99....                                      \n",
       "4     2017 10 02 15 06  61  5.1  6.2 99.00 99.00 99....                                      \n",
       "...                                                 ...                                      \n",
       "6644  2020 07 31 23 30 102  3.6  4.5 99.00 99.00 99....                                      \n",
       "6645  2020 07 31 23 36 113  3.5  4.2 99.00 99.00 99....                                      \n",
       "6646  2020 07 31 23 42 100  3.1  3.7 99.00 99.00 99....                                      \n",
       "6647  2020 07 31 23 48 114  3.9  4.6 99.00 99.00 99....                                      \n",
       "6648  2020 07 31 23 54 128  5.7  6.7 99.00 99.00 99....                                      \n",
       "\n",
       "[243269 rows x 1 columns]"
      ]
     },
     "execution_count": 208,
     "metadata": {},
     "output_type": "execute_result"
    }
   ],
   "source": [
    "pd.concat([wt_2017_df, wt_2018_df, wt_2019_df, wt_2020_Jan_df, wt_2020_Feb_df, wt_2020_Mar_df, wt_2020_Apr_df, \n",
    "           wt_2020_May_df, wt_2020_Jun_df, wt_2020_July_df], axis = 0)"
   ]
  },
  {
   "cell_type": "code",
   "execution_count": null,
   "metadata": {},
   "outputs": [],
   "source": []
  },
  {
   "cell_type": "code",
   "execution_count": null,
   "metadata": {},
   "outputs": [],
   "source": []
  }
 ],
 "metadata": {
  "kernelspec": {
   "display_name": "Python 3",
   "language": "python",
   "name": "python3"
  },
  "language_info": {
   "codemirror_mode": {
    "name": "ipython",
    "version": 3
   },
   "file_extension": ".py",
   "mimetype": "text/x-python",
   "name": "python",
   "nbconvert_exporter": "python",
   "pygments_lexer": "ipython3",
   "version": "3.8.3"
  }
 },
 "nbformat": 4,
 "nbformat_minor": 2
}
